{
  "nbformat": 4,
  "nbformat_minor": 0,
  "metadata": {
    "colab": {
      "provenance": [],
      "authorship_tag": "ABX9TyOv7fEp5WzpRLV9zBn55S09",
      "include_colab_link": true
    },
    "kernelspec": {
      "name": "ir",
      "display_name": "R"
    },
    "language_info": {
      "name": "R"
    }
  },
  "cells": [
    {
      "cell_type": "markdown",
      "metadata": {
        "id": "view-in-github",
        "colab_type": "text"
      },
      "source": [
        "<a href=\"https://colab.research.google.com/github/soueuwilliam/Estudos-R/blob/main/IBS/Aulas/Aula07_STRINGdb.ipynb\" target=\"_parent\"><img src=\"https://colab.research.google.com/assets/colab-badge.svg\" alt=\"Open In Colab\"/></a>"
      ]
    },
    {
      "cell_type": "code",
      "source": [
        "\n",
        "# Coloque o caminho do arquivo R para lê\n",
        "caminho_arquivo_r <- '/content/string.R'\n",
        "arquivo <- readLines(caminho_arquivo_r)\n",
        "writeLines(arquivo)"
      ],
      "metadata": {
        "id": "3_FfCrOPQoY6"
      },
      "execution_count": null,
      "outputs": []
    },
    {
      "cell_type": "code",
      "source": [
        "if (!require(\"BiocManager\", quietly = TRUE))\n",
        "    install.packages(\"BiocManager\")"
      ],
      "metadata": {
        "id": "cRIeWIzQS75L"
      },
      "execution_count": null,
      "outputs": []
    },
    {
      "cell_type": "code",
      "source": [
        "# Instalar pacotes requeridos, se não estiverem instalados:\n",
        "# RCurl\n",
        "if(!require(httr)) install.packages(\"httr\")\n",
        "#igraph\n",
        "if(!require(igraph)) install.packages(\"igraph\")\n",
        "# RedeR\n",
        "if(!require(RedeR)) BiocManager::install(\"RedeR\")"
      ],
      "metadata": {
        "id": "NPQ9GeDzQ6ra"
      },
      "execution_count": 26,
      "outputs": []
    },
    {
      "cell_type": "code",
      "source": [
        "# Carregar pacotes\n",
        "library(httr)\n",
        "library(igraph)\n",
        "library(RedeR)\n"
      ],
      "metadata": {
        "id": "6TsXZozBRBDQ"
      },
      "execution_count": 29,
      "outputs": []
    },
    {
      "cell_type": "code",
      "source": [
        "# STRING db ---------------------------------------------------------------\n",
        "# PASSO 1 - OBTER A REDE DE INTERAÇÃO DO STRING ----\n",
        "\n",
        "# Importar tabela com a lista de genes\n",
        "aponer <- read.table(file = \"apo_dnadamage.txt\", header = TRUE, stringsAsFactors = FALSE)\n",
        "head(aponer)"
      ],
      "metadata": {
        "id": "bBFxGH8NgFzy"
      },
      "execution_count": null,
      "outputs": []
    },
    {
      "cell_type": "code",
      "source": [
        "# Para obtermos as informações do STRING, iremos usar sua API. Esta interface possui métodos\n",
        "# para a obtenção dos dados disponíveis no banco (Para saber mais sobre cada método,\n",
        "# visite https://string-db.org/help/api/).\n",
        "\n",
        "# O primeiro método a ser usado é 'get_string_ids', que irá mapear uma lista de\n",
        "# genes para os identificadores próprios do STRING (Para saber quais os parâmetros do método,\n",
        "# visite https://string-db.org/cgi/help.pl?subpage=api%23mapping-identifiers).\n",
        "\n",
        "# Para fazer este mapeamento, quando submetemos uma requisição à API do string programaticamente,\n",
        "# temos que concatenar os identificadores e separá-los com o símbolo \"%0d\".\n",
        "identifiers_gene_name <- paste0(unique(aponer$Approved_Symbol), collapse = \"%0d\")\n",
        "\n",
        "# Fazer a solicitação a API do STRING\n",
        "req <- httr::POST(\n",
        "  \"https://string-db.org/api/tsv/get_string_ids\",\n",
        "  body = list(\n",
        "    identifiers = identifiers_gene_name,\n",
        "    echo_query = \"1\",\n",
        "    species = \"9606\"\n",
        "  )\n",
        ")\n",
        "map_ids <- read.table(text = content(req, \"text\"), sep = \"\\t\", header = T, quote = \"\")"
      ],
      "metadata": {
        "id": "wzwEg_lwgM7e"
      },
      "execution_count": 34,
      "outputs": []
    },
    {
      "cell_type": "code",
      "source": [
        "\n",
        "# Agora, de posse dos identificadores do STRING, vamos usá-los para obtermos\n",
        "# a rede de interação entre estes genes. Usaremos o método\n",
        "# 'network' (https://string-db.org/cgi/help.pl?subpage=api%23getting-the-string-network-interactions),\n",
        "identifiers_string_id <- paste0(unique(map_ids$stringId), collapse = \"%0d\")\n",
        "req <- httr::POST(\n",
        "  \"https://string-db.org/api/tsv/network\",\n",
        "  body = list(\n",
        "    identifiers = identifiers_string_id,\n",
        "    # identificadores do stringID, obtidos na etapa anterior\n",
        "    required_core = \"0\",\n",
        "    # score mínimo para cada interação\n",
        "    species     = \"9606\" # espécie (H. sapiens)\n",
        "  )\n",
        ")\n",
        "int_network <- read.table(text = content(req, \"text\"), sep = \"\\t\", header = T)\n",
        "int_network <- unique(int_network)\n"
      ],
      "metadata": {
        "id": "sbZaToo6gQbd"
      },
      "execution_count": 62,
      "outputs": []
    },
    {
      "cell_type": "code",
      "source": [
        "# A tabela conterá as seguintes colunas:\n",
        "# stringId_A -\tSTRING identifier (protein A)\n",
        "# stringId_B - STRING identifier (protein B)\n",
        "# preferredName_A\t- common protein name (protein A)\n",
        "# preferredName_B\t- common protein name (protein B)\n",
        "# ncbiTaxonId\t- NCBI taxon identifier\n",
        "# score\t- combined score\n",
        "# nscore - gene neighborhood score\n",
        "# fscore - gene fusion score\n",
        "# pscore - phylogenetic profile score\n",
        "# ascore - coexpression score\n",
        "# escore - experimental score\n",
        "# dscore - database score\n",
        "# tscore - textmining score\n",
        "\n",
        "# Função para combinar os scores de acordo com o algoritmo usado pelo STRING\n",
        "combinescores <- function(dat, evidences = \"all\", confLevel = 0.4){\n",
        "  if(evidences[1] == \"all\"){\n",
        "    edat<-dat[,-c(1,2,ncol(dat))]\n",
        "  } else {\n",
        "    if(!all(evidences%in%colnames(dat))){\n",
        "      stop(\"NOTE: one or more 'evidences' not listed in 'dat' colnames!\")\n",
        "    }\n",
        "    edat<-dat[,evidences]\n",
        "  }\n",
        "  if (any(edat > 1)) {\n",
        "    edat <- edat/1000\n",
        "  }\n",
        "  edat<-1-edat\n",
        "  sc<- apply(X = edat, MARGIN = 1, FUN = function(x) 1-prod(x))\n",
        "  dat <- cbind(dat[,c(1,2)],combined_score = sc)\n",
        "  idx <- dat$combined_score >= confLevel\n",
        "  dat <-dat[idx,]\n",
        "  return(dat)\n",
        "}\n",
        "\n"
      ],
      "metadata": {
        "id": "vSAUmpySgSaF"
      },
      "execution_count": 63,
      "outputs": []
    },
    {
      "cell_type": "code",
      "source": [
        "# Selecionar os scores relativos apenas aos canais de coexpressão, experimentos e database e\n",
        "# combinar seus scores. Selecionar as interações cujos scores são maiores que 0.9.\n",
        "int_network <- combinescores(int_network, evidences = c(\"ascore\", \"escore\", \"dscore\"), confLevel = 0.9)\n",
        "\n"
      ],
      "metadata": {
        "id": "iS01c4YjgVIe"
      },
      "execution_count": 64,
      "outputs": []
    },
    {
      "cell_type": "code",
      "source": [
        "# PASSO 2 - PREPROCESSAR A REDE ----\n",
        "\n",
        "# Remover o identificador de espécie em cada ENSP\n",
        "int_network$stringId_A <- substring(int_network$stringId_A, 6, 1000)\n",
        "int_network$stringId_B <- substring(int_network$stringId_B, 6, 1000)"
      ],
      "metadata": {
        "id": "mlCgRnx1gjwp"
      },
      "execution_count": 65,
      "outputs": []
    },
    {
      "cell_type": "code",
      "source": [
        "\n",
        "# Filtrar a rede, mantendo apenas os ENSP que estão presentes no nosso dataframe inicial\n",
        "idx1 <- int_network$stringId_A %in% aponer$ENSP\n",
        "idx2 <- int_network$stringId_B %in% aponer$ENSP\n",
        "int_network <- int_network[idx1 & idx2,]\n",
        "rownames(aponer) <- aponer$ENSP\n"
      ],
      "metadata": {
        "id": "KY4ppBGbglcd"
      },
      "execution_count": 66,
      "outputs": []
    },
    {
      "cell_type": "code",
      "source": [
        "# Manter somente os nomes dos genes na tabela de interação\n",
        "int_network$gene_name_A <- aponer[int_network$stringId_A, \"Approved_Symbol\"]\n",
        "int_network$gene_name_B <- aponer[int_network$stringId_B, \"Approved_Symbol\"]\n",
        "int_network <- int_network[, c(\"gene_name_A\", \"gene_name_B\", \"combined_score\")]"
      ],
      "metadata": {
        "id": "VpxS3RNogmy_"
      },
      "execution_count": 67,
      "outputs": []
    },
    {
      "cell_type": "code",
      "source": [
        "# PASSO 3 - PLOTAR A REDE DE INTERAÇÃO ----\n",
        "\n",
        "# Combinar as vias em um vetor\n",
        "aponer$vias <- NULL\n",
        "aponer$vias[aponer$Apoptosis == 1] <- 1\n",
        "aponer$vias[aponer$DNAdamage == 1] <- 2\n",
        "idx <- rowSums(aponer[, c(\"Apoptosis\",\"DNAdamage\")]) > 1\n",
        "aponer$vias[idx] <- 3"
      ],
      "metadata": {
        "id": "clFCiuOggr6W"
      },
      "execution_count": 72,
      "outputs": []
    },
    {
      "cell_type": "code",
      "source": [
        "aponer"
      ],
      "metadata": {
        "id": "FjEkZ396regJ"
      },
      "execution_count": null,
      "outputs": []
    },
    {
      "cell_type": "code",
      "source": [
        "# Criar o grafo g com base na informacao em aponer.inter\n",
        "g <- graph_from_data_frame(int_network, directed=FALSE)"
      ],
      "metadata": {
        "id": "MIs6gzYagxi-"
      },
      "execution_count": 79,
      "outputs": []
    },
    {
      "cell_type": "code",
      "source": [
        "# Transferir os atributos dos nós de 'aponer' para o grafo criado (referência na coluna 1)\n",
        "g <- att.mapv(g, dat = aponer, refcol = 1)"
      ],
      "metadata": {
        "id": "OT1A10OHgzND"
      },
      "execution_count": 80,
      "outputs": []
    },
    {
      "cell_type": "code",
      "source": [
        "\n",
        "# Mapear atributos de nós em escala de cores\n",
        "cols <- c(\"green\",\"red\",\"grey\")\n",
        "g <- att.setv(g, from = \"vias\", to = \"nodeColor\", cols=cols)"
      ],
      "metadata": {
        "id": "6EQ3PgDqg1Re"
      },
      "execution_count": 81,
      "outputs": []
    },
    {
      "cell_type": "code",
      "source": [
        "# Definir outros atributos do gráfico\n",
        "# att.setv() # imprime atributos validos do RedeR\n",
        "V(g)$nodeLineColor <- \"black\"\n",
        "V(g)$nodeLineWidth <- 2\n",
        "V(g)$nodeFontSize <- 16"
      ],
      "metadata": {
        "id": "sGQgrDfQg1-l"
      },
      "execution_count": 82,
      "outputs": []
    },
    {
      "cell_type": "code",
      "source": [
        "# att.sete() #imprime atributos validos do RedeR\n",
        "E(g)$edgeColor <- \"grey50\"\n",
        "E(g)$edgeWidth <- 2"
      ],
      "metadata": {
        "id": "wcVIe1fPg4p9"
      },
      "execution_count": 83,
      "outputs": []
    },
    {
      "cell_type": "code",
      "source": [
        "# Abrir porta para o RedeR e adicionar o grafo\n",
        "rdp <- RedPort()\n",
        "calld(rdp)\n",
        "addGraph(rdp, g)\n"
      ],
      "metadata": {
        "colab": {
          "base_uri": "https://localhost:8080/"
        },
        "id": "CM1gdn6xg5_8",
        "outputId": "f2256fb0-794b-4dc8-c9dc-5148b3623b5a"
      },
      "execution_count": 84,
      "outputs": [
        {
          "output_type": "stream",
          "name": "stdout",
          "text": [
            "................................................................................\n"
          ]
        },
        {
          "output_type": "stream",
          "name": "stderr",
          "text": [
            "\n",
            "The Java interface is not responding to initialization!\n",
            "\n",
            "Please, check whether Java is installed in your machine.\n",
            "\n",
            "RedeR will need Java Runtime Environment (Java >=11)\n",
            "\n",
            "\n",
            "For a general diagnosis, re-run the 'calld' function with 'checkcalls=TRUE',\n",
            "for example: > calld(rdp, checkcalls=TRUE)\n",
            "\n"
          ]
        }
      ]
    },
    {
      "cell_type": "code",
      "source": [
        "# Adicionar legenda\n",
        "addLegend.color(rdp,\n",
        "                colvec = cols,\n",
        "                labvec = c(\"Apoptosis\", \"DNAdamage\", \"Intersection\"),\n",
        "                title = \"Pathway\")"
      ],
      "metadata": {
        "id": "SVTSycbYg7Yc"
      },
      "execution_count": null,
      "outputs": []
    },
    {
      "cell_type": "code",
      "source": [
        "\n",
        "# Plotar a rede com o ggraph ----------------------------------------------\n",
        "\n",
        "if(!require(ggraph)) install.packages(\"ggraph\")\n",
        "if(!require(tidygraph)) install.packages(\"tidygraph\")\n",
        "\n",
        "library(ggraph)\n",
        "library(tidygraph)"
      ],
      "metadata": {
        "id": "lTmpfx8Vg9Ij"
      },
      "execution_count": null,
      "outputs": []
    },
    {
      "cell_type": "code",
      "source": [
        "# Obter um dataframe de referência, somente com os genes que participam da rede\n",
        "ref <- aponer[aponer$Approved_Symbol %in% unique(c(int_network$gene_name_A,int_network$gene_name_B)),]\n"
      ],
      "metadata": {
        "id": "P06q5DBZhBFt"
      },
      "execution_count": null,
      "outputs": []
    },
    {
      "cell_type": "code",
      "source": [
        "# Colocar nome para cada uma das vias\n",
        "ref$vias <- factor(ref$vias, levels = 1:3, labels = c(\"Apoptosis\", \"DNAdamage\", \"Both\"))"
      ],
      "metadata": {
        "id": "VWNtkYZNhDBc"
      },
      "execution_count": null,
      "outputs": []
    },
    {
      "cell_type": "code",
      "source": [
        "# Criar rede\n",
        "gr <- tbl_graph(nodes = ref, edges = int_network, directed = F, node_key = \"Approved_Symbol\")"
      ],
      "metadata": {
        "id": "arYCmzEThE8M"
      },
      "execution_count": null,
      "outputs": []
    },
    {
      "cell_type": "code",
      "source": [
        "# Plotar rede\n",
        "ggraph(gr, layout = \"nicely\" ) +\n",
        "  geom_edge_link(alpha = 0.5) +\n",
        "  geom_node_point(aes(col = vias)) +\n",
        "  geom_node_text(aes(label = Approved_Symbol), cex = 1.3)"
      ],
      "metadata": {
        "id": "P-7ycDFUgDHu"
      },
      "execution_count": null,
      "outputs": []
    }
  ]
}