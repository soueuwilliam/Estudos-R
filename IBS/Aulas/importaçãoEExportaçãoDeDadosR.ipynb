{
  "nbformat": 4,
  "nbformat_minor": 0,
  "metadata": {
    "colab": {
      "provenance": [],
      "toc_visible": true,
      "authorship_tag": "ABX9TyOFaJX6odNAyS9W8jkFUc5W",
      "include_colab_link": true
    },
    "kernelspec": {
      "name": "ir",
      "display_name": "R"
    },
    "language_info": {
      "name": "R"
    }
  },
  "cells": [
    {
      "cell_type": "markdown",
      "metadata": {
        "id": "view-in-github",
        "colab_type": "text"
      },
      "source": [
        "<a href=\"https://colab.research.google.com/github/soueuwilliam/Estudos-R/blob/main/IBS/Aulas/importa%C3%A7%C3%A3oEExporta%C3%A7%C3%A3oDeDadosR.ipynb\" target=\"_parent\"><img src=\"https://colab.research.google.com/assets/colab-badge.svg\" alt=\"Open In Colab\"/></a>"
      ]
    },
    {
      "cell_type": "markdown",
      "source": [
        "\n",
        "#Importação de dados     \n"
      ],
      "metadata": {
        "id": "S3Qpkh8hf7WL"
      }
    },
    {
      "cell_type": "markdown",
      "source": [
        "##Trabalhando com arquivos csv"
      ],
      "metadata": {
        "id": "uRgNDW6rlOoq"
      }
    },
    {
      "cell_type": "markdown",
      "source": [
        "###Lendo arquivos"
      ],
      "metadata": {
        "id": "wULNhHMomkAC"
      }
    },
    {
      "cell_type": "code",
      "source": [
        "mice_metados <- read.csv(file='/content/hospital-data.csv',header = T)"
      ],
      "metadata": {
        "id": "dTicJH0Dmhtc"
      },
      "execution_count": 29,
      "outputs": []
    },
    {
      "cell_type": "markdown",
      "source": [
        "###Exportando arquivos"
      ],
      "metadata": {
        "id": "cisom-zvnIV8"
      }
    },
    {
      "cell_type": "code",
      "source": [
        "dataFrameParaExportar = mice_metados\n",
        "camanhinhoDoArquivo = ''\n",
        "write.csv(dataFrameParaExportar,camanhinhoDoArquivo)"
      ],
      "metadata": {
        "id": "9JPCmU6MnNCi"
      },
      "execution_count": null,
      "outputs": []
    },
    {
      "cell_type": "markdown",
      "source": [
        "##Trabalhando com arquivos xlsx\n",
        "\n"
      ],
      "metadata": {
        "id": "ngyWbXArlhfj"
      }
    },
    {
      "cell_type": "markdown",
      "source": [
        "###Instalando Bibliotecas"
      ],
      "metadata": {
        "id": "EN0DEs7McOH2"
      }
    },
    {
      "cell_type": "code",
      "source": [
        "install.packages(\"rJava\")\n",
        "install.packages(\"xlsx\")"
      ],
      "metadata": {
        "id": "Vfr29JjgbIfZ"
      },
      "execution_count": null,
      "outputs": []
    },
    {
      "cell_type": "markdown",
      "source": [
        "###Carregando bibliotecas"
      ],
      "metadata": {
        "id": "H5jOQl-bcTC4"
      }
    },
    {
      "cell_type": "code",
      "source": [
        "library(rJava)\n",
        "library(xlsx)"
      ],
      "metadata": {
        "id": "wBdmqokDmwrN"
      },
      "execution_count": null,
      "outputs": []
    },
    {
      "cell_type": "markdown",
      "source": [
        "###Lendo o arquivo xlxs"
      ],
      "metadata": {
        "id": "LZrhkWUidMs3"
      }
    },
    {
      "cell_type": "code",
      "source": [
        "aponer<-read.xlsx(\"Aponer.xlsx\", sheetIndex = 2, colIndex = 1:6,\n",
        "                  header = T, as.data.frame = T)"
      ],
      "metadata": {
        "id": "AzFmvVuamyWi"
      },
      "execution_count": null,
      "outputs": []
    },
    {
      "cell_type": "markdown",
      "source": [
        "###Exportando arquivos xlxs"
      ],
      "metadata": {
        "id": "hh65ndrEdSJf"
      }
    },
    {
      "cell_type": "code",
      "source": [
        "nome_da_tabela = aponer\n",
        "caminhoParaPasta = ''\n",
        "write.xlsx(nome_da_tabela, caminhoParaPasta)"
      ],
      "metadata": {
        "id": "3j0XAuSRe6Yj"
      },
      "execution_count": null,
      "outputs": []
    },
    {
      "cell_type": "markdown",
      "source": [
        "## rodando codigos de scripts"
      ],
      "metadata": {
        "id": "ROGV4D1KkB9w"
      }
    },
    {
      "cell_type": "code",
      "source": [
        "source(file = \"/content/Exemplo.R\")                      #source() roda um script do diretorioi indicado\n"
      ],
      "metadata": {
        "id": "DcncbXWXhsh-"
      },
      "execution_count": 30,
      "outputs": []
    },
    {
      "cell_type": "markdown",
      "source": [
        "## carregando objetos do R"
      ],
      "metadata": {
        "id": "nQQ5F4lqkJ2E"
      }
    },
    {
      "cell_type": "code",
      "source": [
        "load(file = \"arquivo.RData\")                                         #load() carrega arquivos R"
      ],
      "metadata": {
        "id": "7IqAlDclhvn8"
      },
      "execution_count": null,
      "outputs": []
    },
    {
      "cell_type": "markdown",
      "source": [
        "## lendo arquivos tabulares de texto (.txt)"
      ],
      "metadata": {
        "id": "NW8S15vMkgFU"
      }
    },
    {
      "cell_type": "code",
      "source": [
        "cluster11<-read.table(\"cluster11.txt\")         #read.table() le arquivos .txt econverte em data.frame"
      ],
      "metadata": {
        "id": "iD9Y3ibOhzYV"
      },
      "execution_count": null,
      "outputs": []
    },
    {
      "cell_type": "code",
      "source": [
        "args(read.table)                               #args() imprime os argumentos de uma funcao\n",
        "help(read.table)"
      ],
      "metadata": {
        "id": "46UaiH68h3ol"
      },
      "execution_count": null,
      "outputs": []
    },
    {
      "cell_type": "code",
      "source": [
        "HospData<-read.csv(\"hospital-data.csv\")        #read.csv() eh especifico para comma separeted value"
      ],
      "metadata": {
        "id": "RbhCBfhih78G"
      },
      "execution_count": null,
      "outputs": []
    },
    {
      "cell_type": "markdown",
      "source": [
        "# carregue o arquivo \"COG.mappings.v9.0.txt\"e construa o data.frame \"cogdata\""
      ],
      "metadata": {
        "id": "HtlxLRvIko7W"
      }
    },
    {
      "cell_type": "code",
      "source": [
        "readLines(\"COG.mappings.v9.0.txt\", 10)        #reaLines acessa o arquivo e le as linhas"
      ],
      "metadata": {
        "id": "mW9HvXmJjU9c"
      },
      "execution_count": null,
      "outputs": []
    },
    {
      "cell_type": "code",
      "source": [
        "scan(file='COG.mappings.v9.0.txt',nlines=10,what=character())   #scan() le cada posicao"
      ],
      "metadata": {
        "id": "4pBnTO0tkztT"
      },
      "execution_count": null,
      "outputs": []
    },
    {
      "cell_type": "code",
      "source": [
        "cogdata<-read.table(\"COG.mappings.v9.0.txt\", header = T, sep = \"\\t\",\n",
        "                    comment.char = \"\", stringsAsFactors = F, quote = \"\")"
      ],
      "metadata": {
        "id": "0Hvy7y05k4tE"
      },
      "execution_count": null,
      "outputs": []
    },
    {
      "cell_type": "code",
      "source": [
        "aponer<-read.delim(\"clipboard\")               #funciona como copy and paste no windows"
      ],
      "metadata": {
        "id": "kVVt31Bwk6XE"
      },
      "execution_count": null,
      "outputs": []
    },
    {
      "cell_type": "markdown",
      "source": [
        "## Connections   "
      ],
      "metadata": {
        "id": "G-FAg-WCjYt8"
      }
    },
    {
      "cell_type": "markdown",
      "source": [
        "### quando se vai acessar um arquivo externo ao R se abre uma coneccao"
      ],
      "metadata": {
        "id": "AJrDkBm5lMsp"
      }
    },
    {
      "cell_type": "code",
      "source": [
        "con<-gzfile(\"COG.mappings.v9.0.txt.gz\")          #gzfile() abre uma coneccao com arquivo .gz\n",
        "cogdata1<-readLines(con, 10)                     #a coneccao eh passada para a funcao de leitura\n",
        "cogdata1\n",
        "close(con)                                       #eh conveniente fechar a ceneccao"
      ],
      "metadata": {
        "id": "l16lj-m9lW_c"
      },
      "execution_count": null,
      "outputs": []
    },
    {
      "cell_type": "code",
      "source": [
        "con <- url(\"http://www.tribunadonorte.com.br/\", \"r\", 10)  #url() abre uma coneccao com arquivo web\n",
        "x<-readLines(con)\n",
        "x[1:10]\n",
        "close(con)"
      ],
      "metadata": {
        "id": "1X7CupIzlbhq"
      },
      "execution_count": null,
      "outputs": []
    },
    {
      "cell_type": "markdown",
      "source": [
        "## salvando objetos em arquivos do R"
      ],
      "metadata": {
        "id": "51L6Z0Wrm0ia"
      }
    },
    {
      "cell_type": "code",
      "source": [
        "save(unido,biometria, esportes, file=\"unido.RData\")    #save() salva os arquivos em binario"
      ],
      "metadata": {
        "id": "cHfdAbAdgEqP"
      },
      "execution_count": null,
      "outputs": []
    },
    {
      "cell_type": "markdown",
      "source": [
        "## salvando txt"
      ],
      "metadata": {
        "id": "7Lq8YQVvm9dk"
      }
    },
    {
      "cell_type": "code",
      "source": [
        "write.table(unido, file=\"unido.txt\", sep=\"\\t\", row.names=FALSE)   #write.table() salva arquivos .txt\n",
        "list.files()"
      ],
      "metadata": {
        "id": "5cZ8JErslVxE"
      },
      "execution_count": null,
      "outputs": []
    }
  ]
}