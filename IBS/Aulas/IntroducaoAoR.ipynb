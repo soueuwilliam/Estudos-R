{
  "cells": [
    {
      "cell_type": "markdown",
      "metadata": {
        "colab_type": "text",
        "id": "view-in-github"
      },
      "source": [
        "<a href=\"https://colab.research.google.com/github/soueuwilliam/Estudos-R/blob/main/IBS/introducao_ao_R.ipynb\" target=\"_parent\"><img src=\"https://colab.research.google.com/assets/colab-badge.svg\" alt=\"Open In Colab\"/></a>"
      ]
    },
    {
      "cell_type": "markdown",
      "metadata": {
        "id": "gsDmDw5nn7KJ"
      },
      "source": [
        "# INTRODUÇÃO AO R"
      ]
    },
    {
      "cell_type": "markdown",
      "metadata": {
        "id": "FiJ1FTPYnVVb"
      },
      "source": [
        "  ## Operações simples        \n"
      ]
    },
    {
      "cell_type": "code",
      "execution_count": null,
      "metadata": {
        "id": "5wrgGMi6mGMm",
        "vscode": {
          "languageId": "r"
        }
      },
      "outputs": [],
      "source": [
        "# Aritmética básica em R\n",
        "cat(\"Aritmética básica em R\\n\")\n",
        "cat(\"2 + 5 é igual a \", 2 + 5, \"\\n\")  # adição\n",
        "cat(\"5 - 2 é igual a \", 5 - 2, \"\\n\")  # subtração\n",
        "cat(\"2 * 5 é igual a \", 2 * 5, \"\\n\")  # multiplicação\n",
        "cat(\"8 / 2 é igual a \", 8 / 2, \"\\n\")  # divisão\n",
        "cat(\"2 ^ 5 é igual a \", 2 ^ 5, \"\\n\")  # exponenciação\n",
        "\n",
        "# Avaliação lógica\n",
        "cat(\"Avaliação lógica em R\\n\")\n",
        "cat(\"3 == 5 é \", 3 == 5, \"\\n\")          # igual\n",
        "cat(\"3 != 5 é \", 3 != 5, \"\\n\")          # diferente\n",
        "cat(\"3 > 5 é \", 3 > 5, \"\\n\")            # maior que\n",
        "cat(\"3 < 5 é \", 3 < 5, \"\\n\")            # menor que\n",
        "cat(\"3 >= 5 é \", 3 >= 5, \"\\n\")          # maior ou igual\n",
        "cat(\"3 <= 5 é \", 3 <= 5, \"\\n\")          # menor ou igual\n",
        "\n",
        "# Operações concatenadas\n",
        "resultado <- ((2 + 5 - 3) * 10) ^ 4 / 7 ^ 4\n",
        "cat(\"O resultado das operações concatenadas é \", resultado, \"\\n\")"
      ]
    },
    {
      "cell_type": "markdown",
      "metadata": {
        "id": "7BuMDxLeosxs"
      },
      "source": [
        "## Variáveis"
      ]
    },
    {
      "cell_type": "code",
      "execution_count": null,
      "metadata": {
        "id": "fpupoL_-msCc",
        "vscode": {
          "languageId": "r"
        }
      },
      "outputs": [],
      "source": [
        "x<-1        # A seta \"<-\" representa o simbolo de atribuicao\n",
        "x           # Ao escrever o nome do objeto, seu valor sera impresso\n",
        "\n",
        "y<-\"gol do gremio!\"\n",
        "y\n",
        "\n",
        "#Os resultados da operacao podem ser salvos em objetos\n",
        "x<-2+5\n",
        "y=5-2\n",
        "2*5->w\n",
        "z<-8/2\n",
        "\n",
        "(((x-y)*w)^z)/(x^z)"
      ]
    },
    {
      "cell_type": "markdown",
      "metadata": {
        "id": "p0NzjbMcpOjJ"
      },
      "source": [
        "## Funções              \n"
      ]
    },
    {
      "cell_type": "code",
      "execution_count": null,
      "metadata": {
        "id": "w89yHlTfmyWi",
        "vscode": {
          "languageId": "r"
        }
      },
      "outputs": [],
      "source": [
        "# Chamadas pelo nome\n",
        "sum(1,3,5)\n",
        "\n",
        "# Podem receber argumentos\n",
        "a<-rep(\"Aluno\",times=3)\n",
        "a\n",
        "\n",
        "\n"
      ]
    },
    {
      "cell_type": "markdown",
      "metadata": {
        "id": "mzDDEiGDpmNl"
      },
      "source": [
        "\n",
        "## Ajuda              "
      ]
    },
    {
      "cell_type": "code",
      "execution_count": null,
      "metadata": {
        "id": "sbnNGHH2m5bS",
        "vscode": {
          "languageId": "r"
        }
      },
      "outputs": [],
      "source": [
        "help(sum)         #acessa a documentacao do R\n",
        "?sd\n",
        "??plot"
      ]
    },
    {
      "cell_type": "markdown",
      "metadata": {
        "id": "ByqunXwjpt_X"
      },
      "source": [
        "\n",
        "## Vectors              "
      ]
    },
    {
      "cell_type": "markdown",
      "metadata": {},
      "source": [
        "- Vetores - elementos do mesmo tipo + 1 dimesão\n",
        "    - Vetores de caracter\n",
        "    - Vetores numéricos\n",
        "    - Vetores inteiros\n",
        "    - Vetores lógicos\n",
        "- Matrizes e Arrays - elementos do mesmo tipo + 2 dimensões \n",
        "\n",
        "- Lista e dataframes - comporta elementos de tipos diferentes + multidimensionais"
      ]
    },
    {
      "cell_type": "code",
      "execution_count": 2,
      "metadata": {
        "id": "2TTRE6Aem9f6",
        "vscode": {
          "languageId": "r"
        }
      },
      "outputs": [
        {
          "data": {
            "text/html": [
              "2"
            ],
            "text/latex": [
              "2"
            ],
            "text/markdown": [
              "2"
            ],
            "text/plain": [
              "[1] 2"
            ]
          },
          "metadata": {},
          "output_type": "display_data"
        },
        {
          "data": {
            "text/html": [
              "<style>\n",
              ".list-inline {list-style: none; margin:0; padding: 0}\n",
              ".list-inline>li {display: inline-block}\n",
              ".list-inline>li:not(:last-child)::after {content: \"\\00b7\"; padding: 0 .5ex}\n",
              "</style>\n",
              "<ol class=list-inline><li>0</li><li>1</li><li>2</li><li>3</li><li>4</li><li>5</li><li>6</li><li>7</li><li>8</li><li>9</li><li>10</li></ol>\n"
            ],
            "text/latex": [
              "\\begin{enumerate*}\n",
              "\\item 0\n",
              "\\item 1\n",
              "\\item 2\n",
              "\\item 3\n",
              "\\item 4\n",
              "\\item 5\n",
              "\\item 6\n",
              "\\item 7\n",
              "\\item 8\n",
              "\\item 9\n",
              "\\item 10\n",
              "\\end{enumerate*}\n"
            ],
            "text/markdown": [
              "1. 0\n",
              "2. 1\n",
              "3. 2\n",
              "4. 3\n",
              "5. 4\n",
              "6. 5\n",
              "7. 6\n",
              "8. 7\n",
              "9. 8\n",
              "10. 9\n",
              "11. 10\n",
              "\n",
              "\n"
            ],
            "text/plain": [
              " [1]  0  1  2  3  4  5  6  7  8  9 10"
            ]
          },
          "metadata": {},
          "output_type": "display_data"
        },
        {
          "data": {
            "text/html": [
              "'integer'"
            ],
            "text/latex": [
              "'integer'"
            ],
            "text/markdown": [
              "'integer'"
            ],
            "text/plain": [
              "[1] \"integer\""
            ]
          },
          "metadata": {},
          "output_type": "display_data"
        },
        {
          "data": {
            "text/html": [
              "<style>\n",
              ".list-inline {list-style: none; margin:0; padding: 0}\n",
              ".list-inline>li {display: inline-block}\n",
              ".list-inline>li:not(:last-child)::after {content: \"\\00b7\"; padding: 0 .5ex}\n",
              "</style>\n",
              "<ol class=list-inline><li>0</li><li>1</li><li>2</li><li>3</li><li>4</li><li>5</li><li>6</li><li>7</li><li>8</li><li>9</li><li>10</li></ol>\n"
            ],
            "text/latex": [
              "\\begin{enumerate*}\n",
              "\\item 0\n",
              "\\item 1\n",
              "\\item 2\n",
              "\\item 3\n",
              "\\item 4\n",
              "\\item 5\n",
              "\\item 6\n",
              "\\item 7\n",
              "\\item 8\n",
              "\\item 9\n",
              "\\item 10\n",
              "\\end{enumerate*}\n"
            ],
            "text/markdown": [
              "1. 0\n",
              "2. 1\n",
              "3. 2\n",
              "4. 3\n",
              "5. 4\n",
              "6. 5\n",
              "7. 6\n",
              "8. 7\n",
              "9. 8\n",
              "10. 9\n",
              "11. 10\n",
              "\n",
              "\n"
            ],
            "text/plain": [
              " [1]  0  1  2  3  4  5  6  7  8  9 10"
            ]
          },
          "metadata": {},
          "output_type": "display_data"
        },
        {
          "data": {
            "text/html": [
              "'numeric'"
            ],
            "text/latex": [
              "'numeric'"
            ],
            "text/markdown": [
              "'numeric'"
            ],
            "text/plain": [
              "[1] \"numeric\""
            ]
          },
          "metadata": {},
          "output_type": "display_data"
        },
        {
          "data": {
            "text/html": [
              "<style>\n",
              ".list-inline {list-style: none; margin:0; padding: 0}\n",
              ".list-inline>li {display: inline-block}\n",
              ".list-inline>li:not(:last-child)::after {content: \"\\00b7\"; padding: 0 .5ex}\n",
              "</style>\n",
              "<ol class=list-inline><li>'0'</li><li>'1'</li><li>'2'</li><li>'3'</li><li>'4'</li><li>'5'</li><li>'6'</li><li>'7'</li><li>'8'</li><li>'9'</li><li>'10'</li></ol>\n"
            ],
            "text/latex": [
              "\\begin{enumerate*}\n",
              "\\item '0'\n",
              "\\item '1'\n",
              "\\item '2'\n",
              "\\item '3'\n",
              "\\item '4'\n",
              "\\item '5'\n",
              "\\item '6'\n",
              "\\item '7'\n",
              "\\item '8'\n",
              "\\item '9'\n",
              "\\item '10'\n",
              "\\end{enumerate*}\n"
            ],
            "text/markdown": [
              "1. '0'\n",
              "2. '1'\n",
              "3. '2'\n",
              "4. '3'\n",
              "5. '4'\n",
              "6. '5'\n",
              "7. '6'\n",
              "8. '7'\n",
              "9. '8'\n",
              "10. '9'\n",
              "11. '10'\n",
              "\n",
              "\n"
            ],
            "text/plain": [
              " [1] \"0\"  \"1\"  \"2\"  \"3\"  \"4\"  \"5\"  \"6\"  \"7\"  \"8\"  \"9\"  \"10\""
            ]
          },
          "metadata": {},
          "output_type": "display_data"
        },
        {
          "data": {
            "text/html": [
              "'character'"
            ],
            "text/latex": [
              "'character'"
            ],
            "text/markdown": [
              "'character'"
            ],
            "text/plain": [
              "[1] \"character\""
            ]
          },
          "metadata": {},
          "output_type": "display_data"
        },
        {
          "data": {
            "text/html": [
              "<style>\n",
              ".list-inline {list-style: none; margin:0; padding: 0}\n",
              ".list-inline>li {display: inline-block}\n",
              ".list-inline>li:not(:last-child)::after {content: \"\\00b7\"; padding: 0 .5ex}\n",
              "</style>\n",
              "<ol class=list-inline><li>FALSE</li><li>TRUE</li><li>TRUE</li><li>TRUE</li><li>TRUE</li><li>TRUE</li><li>TRUE</li><li>TRUE</li><li>TRUE</li><li>TRUE</li><li>TRUE</li></ol>\n"
            ],
            "text/latex": [
              "\\begin{enumerate*}\n",
              "\\item FALSE\n",
              "\\item TRUE\n",
              "\\item TRUE\n",
              "\\item TRUE\n",
              "\\item TRUE\n",
              "\\item TRUE\n",
              "\\item TRUE\n",
              "\\item TRUE\n",
              "\\item TRUE\n",
              "\\item TRUE\n",
              "\\item TRUE\n",
              "\\end{enumerate*}\n"
            ],
            "text/markdown": [
              "1. FALSE\n",
              "2. TRUE\n",
              "3. TRUE\n",
              "4. TRUE\n",
              "5. TRUE\n",
              "6. TRUE\n",
              "7. TRUE\n",
              "8. TRUE\n",
              "9. TRUE\n",
              "10. TRUE\n",
              "11. TRUE\n",
              "\n",
              "\n"
            ],
            "text/plain": [
              " [1] FALSE  TRUE  TRUE  TRUE  TRUE  TRUE  TRUE  TRUE  TRUE  TRUE  TRUE"
            ]
          },
          "metadata": {},
          "output_type": "display_data"
        },
        {
          "data": {
            "text/html": [
              "'logical'"
            ],
            "text/latex": [
              "'logical'"
            ],
            "text/markdown": [
              "'logical'"
            ],
            "text/plain": [
              "[1] \"logical\""
            ]
          },
          "metadata": {},
          "output_type": "display_data"
        },
        {
          "data": {
            "text/html": [
              "<style>\n",
              ".list-inline {list-style: none; margin:0; padding: 0}\n",
              ".list-inline>li {display: inline-block}\n",
              ".list-inline>li:not(:last-child)::after {content: \"\\00b7\"; padding: 0 .5ex}\n",
              "</style>\n",
              "<ol class=list-inline><li>FALSE</li><li>FALSE</li><li>FALSE</li><li>TRUE</li></ol>\n"
            ],
            "text/latex": [
              "\\begin{enumerate*}\n",
              "\\item FALSE\n",
              "\\item FALSE\n",
              "\\item FALSE\n",
              "\\item TRUE\n",
              "\\end{enumerate*}\n"
            ],
            "text/markdown": [
              "1. FALSE\n",
              "2. FALSE\n",
              "3. FALSE\n",
              "4. TRUE\n",
              "\n",
              "\n"
            ],
            "text/plain": [
              "[1] FALSE FALSE FALSE  TRUE"
            ]
          },
          "metadata": {},
          "output_type": "display_data"
        },
        {
          "data": {
            "text/html": [
              "&lt;NA&gt;"
            ],
            "text/latex": [
              "<NA>"
            ],
            "text/markdown": [
              "&lt;NA&gt;"
            ],
            "text/plain": [
              "[1] NA"
            ]
          },
          "metadata": {},
          "output_type": "display_data"
        },
        {
          "data": {
            "text/html": [
              "20"
            ],
            "text/latex": [
              "20"
            ],
            "text/markdown": [
              "20"
            ],
            "text/plain": [
              "[1] 20"
            ]
          },
          "metadata": {},
          "output_type": "display_data"
        },
        {
          "data": {
            "text/html": [
              "<style>\n",
              ".list-inline {list-style: none; margin:0; padding: 0}\n",
              ".list-inline>li {display: inline-block}\n",
              ".list-inline>li:not(:last-child)::after {content: \"\\00b7\"; padding: 0 .5ex}\n",
              "</style>\n",
              "<ol class=list-inline><li>1</li><li>2</li><li>3</li><li>4</li><li>5</li></ol>\n"
            ],
            "text/latex": [
              "\\begin{enumerate*}\n",
              "\\item 1\n",
              "\\item 2\n",
              "\\item 3\n",
              "\\item 4\n",
              "\\item 5\n",
              "\\end{enumerate*}\n"
            ],
            "text/markdown": [
              "1. 1\n",
              "2. 2\n",
              "3. 3\n",
              "4. 4\n",
              "5. 5\n",
              "\n",
              "\n"
            ],
            "text/plain": [
              "[1] 1 2 3 4 5"
            ]
          },
          "metadata": {},
          "output_type": "display_data"
        },
        {
          "data": {
            "text/html": [
              "5"
            ],
            "text/latex": [
              "5"
            ],
            "text/markdown": [
              "5"
            ],
            "text/plain": [
              "[1] 5"
            ]
          },
          "metadata": {},
          "output_type": "display_data"
        },
        {
          "data": {
            "text/plain": [
              "NULL"
            ]
          },
          "metadata": {},
          "output_type": "display_data"
        },
        {
          "data": {
            "text/plain": [
              "NULL"
            ]
          },
          "metadata": {},
          "output_type": "display_data"
        },
        {
          "data": {
            "text/html": [
              "<style>\n",
              ".dl-inline {width: auto; margin:0; padding: 0}\n",
              ".dl-inline>dt, .dl-inline>dd {float: none; width: auto; display: inline-block}\n",
              ".dl-inline>dt::after {content: \":\\0020\"; padding-right: .5ex}\n",
              ".dl-inline>dt:not(:first-of-type) {padding-left: .5ex}\n",
              "</style><dl class=dl-inline><dt>a</dt><dd>1</dd><dt>b</dt><dd>2</dd><dt>c</dt><dd>3</dd><dt>d</dt><dd>4</dd><dt>e</dt><dd>5</dd></dl>\n"
            ],
            "text/latex": [
              "\\begin{description*}\n",
              "\\item[a] 1\n",
              "\\item[b] 2\n",
              "\\item[c] 3\n",
              "\\item[d] 4\n",
              "\\item[e] 5\n",
              "\\end{description*}\n"
            ],
            "text/markdown": [
              "a\n",
              ":   1b\n",
              ":   2c\n",
              ":   3d\n",
              ":   4e\n",
              ":   5\n",
              "\n"
            ],
            "text/plain": [
              "a b c d e \n",
              "1 2 3 4 5 "
            ]
          },
          "metadata": {},
          "output_type": "display_data"
        },
        {
          "data": {
            "text/html": [
              "<strong>$names</strong> = <style>\n",
              ".list-inline {list-style: none; margin:0; padding: 0}\n",
              ".list-inline>li {display: inline-block}\n",
              ".list-inline>li:not(:last-child)::after {content: \"\\00b7\"; padding: 0 .5ex}\n",
              "</style>\n",
              "<ol class=list-inline><li>'a'</li><li>'b'</li><li>'c'</li><li>'d'</li><li>'e'</li></ol>\n"
            ],
            "text/latex": [
              "\\textbf{\\$names} = \\begin{enumerate*}\n",
              "\\item 'a'\n",
              "\\item 'b'\n",
              "\\item 'c'\n",
              "\\item 'd'\n",
              "\\item 'e'\n",
              "\\end{enumerate*}\n"
            ],
            "text/markdown": [
              "**$names** = 1. 'a'\n",
              "2. 'b'\n",
              "3. 'c'\n",
              "4. 'd'\n",
              "5. 'e'\n",
              "\n",
              "\n"
            ],
            "text/plain": [
              "$names\n",
              "[1] \"a\" \"b\" \"c\" \"d\" \"e\"\n"
            ]
          },
          "metadata": {},
          "output_type": "display_data"
        }
      ],
      "source": [
        "#funcao c() : concatenate\n",
        "number<-c(1, 2, 3, 4, 5)\n",
        "letter<-c(\"x\", \"y\", \"z\", \"w\", \"j\")\n",
        "logical<- c(TRUE, FALSE, FALSE, TRUE, FALSE)\n",
        "seq<-1:10\n",
        "\n",
        "#hierarquia de classes\n",
        "x<-c(1, 2, 3)                 #numeric\n",
        "y<-c(\"1\", \"2\", \"3\")           #character\n",
        "\n",
        "\n",
        "x<-c(TRUE, FALSE, FALSE)      #logical\n",
        "y<-c(\"TRUE\", \"FALSE\", \"FALSE\")#character\n",
        "\n",
        "sum(logical)           #Podemos somar vetores logicos\n",
        "\n",
        "#OBS. vetores comportam somente uma classe de elementos\n",
        "\n",
        "\n",
        "#coercao de objetos usando funcoes do tipo as.algumacoisa()\n",
        "x<-0:10\n",
        "x\n",
        "class(x)\n",
        "\n",
        "a<-as.numeric(x)\n",
        "a\n",
        "class(a)\n",
        "\n",
        "b<-as.character(x)\n",
        "b\n",
        "class(b)\n",
        "\n",
        "c<-as.logical(x)\n",
        "c\n",
        "class(c)\n",
        "\n",
        "#vetores de NA\n",
        "x<-c(1, 2, 3, NA)\n",
        "y<-c(\"a\", \"b\", \"c\", NA)\n",
        "\n",
        "is.na(x)\n",
        "\n",
        "a <- c(1, 3, NA, 7, 9)\n",
        "sum(a)\n",
        "sum(a, na.rm=TRUE)\n",
        "\n",
        "\n",
        "#objetos possuem atributos: classe, tamanho, dimensoes, nomes, etc\n",
        "x<-1:5\n",
        "x\n",
        "length(x)\n",
        "dim(x)\n",
        "attributes(x)\n",
        "names(x)<-c(\"a\", \"b\", \"c\", \"d\", \"e\")\n",
        "x\n",
        "attributes(x)\n"
      ]
    },
    {
      "cell_type": "markdown",
      "metadata": {
        "id": "RlzJ4ZTDqBDG"
      },
      "source": [
        "## Factor\n"
      ]
    },
    {
      "cell_type": "code",
      "execution_count": null,
      "metadata": {
        "id": "EjPKCu8FnBba",
        "vscode": {
          "languageId": "r"
        }
      },
      "outputs": [],
      "source": [
        "\n",
        "\n",
        "#fatores sao vetores categoricos, possuem o atributo level\n",
        "\n",
        "x<-factor(c(\"s\", \"n\", \"n\", \"s\", \"s\"))\n",
        "z<-factor(c(\"alto\", \"baixo\", \"medio\"))\n"
      ]
    },
    {
      "cell_type": "markdown",
      "metadata": {
        "id": "r2qU2JgUqOxO"
      },
      "source": [
        "\n",
        "## Matrix              "
      ]
    },
    {
      "cell_type": "code",
      "execution_count": null,
      "metadata": {
        "id": "g5Z2pkW6nF9j",
        "vscode": {
          "languageId": "r"
        }
      },
      "outputs": [],
      "source": [
        "#matrizes sao vetores com o atributo dimensao\n",
        "x<-1:20\n",
        "x\n",
        "attributes(x)\n",
        "\n",
        "m<-matrix(x, 4, 5)\n",
        "m\n",
        "attributes(m)\n",
        "\n",
        "dim(x)<-c(4,5)\n",
        "x\n",
        "identical(x, m)\n",
        "\n",
        "#OBS.: como sao vetores, matrizes comportam somente uma classe de elementos\n",
        "a<-1:5\n",
        "b<--1:-5\n",
        "c<-c(3, 6, 4, 9, 1)\n",
        "\n",
        "m<-cbind(a, b, c)       #funcao cbind() concatena colunas\n",
        "m1<-rbind(a, b, c)      #funcao rbind() concatena linhas\n"
      ]
    },
    {
      "cell_type": "markdown",
      "metadata": {
        "id": "1rQ8_z6VqWiV"
      },
      "source": [
        "\n",
        "##  Array  "
      ]
    },
    {
      "cell_type": "code",
      "execution_count": null,
      "metadata": {
        "id": "Q_82VUrdnJ5H",
        "vscode": {
          "languageId": "r"
        }
      },
      "outputs": [],
      "source": [
        "ar<-array(1:200, c(5, 10, 4))    #vetores multidimensionais\n",
        "ar\n",
        "ar[,,1]                          #[linha, coluna, matrix]\n",
        "\n"
      ]
    },
    {
      "cell_type": "markdown",
      "metadata": {
        "id": "w6bWgSDVqeor"
      },
      "source": [
        "\n",
        "## List"
      ]
    },
    {
      "cell_type": "code",
      "execution_count": null,
      "metadata": {
        "id": "tVUOwDVanM5R",
        "vscode": {
          "languageId": "r"
        }
      },
      "outputs": [],
      "source": [
        "\n",
        "# listas sao tipos especiais de vetores, que comportam elementos de deferentes classes\n",
        "a <- c(1, 3, NA, 7, 9)\n",
        "b<-matrix(1:200, 20,10)\n",
        "c<-\"Gol do Gremio\"\n",
        "z<-factor(c(\"alto\", \"baixo\", \"medio\"))\n",
        "\n",
        "ls<-list(a, b, c, z)\n",
        "ls                      #cada elemento da lista aparece com [[]]\n",
        "\n",
        "ls1<-vector(\"list\", 5)   #funcao vector pode criar listas vazias\n",
        "ls1\n",
        "\n",
        "\n"
      ]
    },
    {
      "cell_type": "markdown",
      "metadata": {
        "id": "ItCsP-QIqlcs"
      },
      "source": [
        "\n",
        "## Data.frame"
      ]
    },
    {
      "cell_type": "code",
      "execution_count": null,
      "metadata": {
        "id": "z9SUSexwnPsx",
        "vscode": {
          "languageId": "r"
        }
      },
      "outputs": [],
      "source": [
        "#foramdo por vetores de mesmo tamanho, organizados como colunas\n",
        "\n",
        "number<-c(1, 2, 3, 4, 5)\n",
        "letter<-c(\"x\", \"y\", \"z\", \"w\", \"j\")\n",
        "logical<- c(TRUE, FALSE, FALSE, TRUE, FALSE)\n",
        "seq<-1:10\n",
        "\n",
        "dt<-data.frame(number, letter, logical)\n",
        "class(dt)\n",
        "dt$letter                     #usamos $ para acessar as colunas de um data.frame\n",
        "class(dt$letter)              #vetores de caracter sao interpretados como fatores\n",
        "\n",
        "dt<-data.frame(number, letter, logical, stringsAsFactors = F) #stringsAsFactors = F\n",
        "dt$letter\n",
        "class(dt$letter)\n",
        "\n",
        "attributes(dt)                #data.frames possuem colnames e rownames\n",
        "colnames(dt)\n",
        "row.names(dt)\n",
        "\n",
        "dt[5,2]                       #acessamos data.frames da mesma forma que matrizes"
      ]
    }
  ],
  "metadata": {
    "colab": {
      "authorship_tag": "ABX9TyNnhCtIHA9lAg1F0Gf4I1c4",
      "include_colab_link": true,
      "provenance": [],
      "toc_visible": true
    },
    "kernelspec": {
      "display_name": "R",
      "language": "R",
      "name": "ir"
    },
    "language_info": {
      "codemirror_mode": "r",
      "file_extension": ".r",
      "mimetype": "text/x-r-source",
      "name": "R",
      "pygments_lexer": "r",
      "version": "4.1.2"
    }
  },
  "nbformat": 4,
  "nbformat_minor": 0
}
