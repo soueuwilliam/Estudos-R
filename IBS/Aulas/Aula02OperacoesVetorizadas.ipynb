{
  "nbformat": 4,
  "nbformat_minor": 0,
  "metadata": {
    "colab": {
      "provenance": [],
      "authorship_tag": "ABX9TyNxk9pTq3EDJhusnEP+9ix/",
      "include_colab_link": true
    },
    "kernelspec": {
      "name": "ir",
      "display_name": "R"
    },
    "language_info": {
      "name": "R"
    }
  },
  "cells": [
    {
      "cell_type": "markdown",
      "metadata": {
        "id": "view-in-github",
        "colab_type": "text"
      },
      "source": [
        "<a href=\"https://colab.research.google.com/github/soueuwilliam/Estudos-R/blob/main/IBS/Aulas/Aula02OperacoesVetorizadas.ipynb\" target=\"_parent\"><img src=\"https://colab.research.google.com/assets/colab-badge.svg\" alt=\"Open In Colab\"/></a>"
      ]
    },
    {
      "cell_type": "code",
      "source": [
        "#Funções\n",
        "ImprimiLinha <- function (){ cat('\\n---------------------------------------------------\\n\\n')}\n"
      ],
      "metadata": {
        "id": "tWs9DNTlyZjg"
      },
      "execution_count": 1,
      "outputs": []
    },
    {
      "cell_type": "markdown",
      "source": [
        "#Trabalhando com vetores"
      ],
      "metadata": {
        "id": "2tdjxNMgruLX"
      }
    },
    {
      "cell_type": "markdown",
      "source": [
        "##Operações vetorizadas"
      ],
      "metadata": {
        "id": "hrcPbRPrrqtH"
      }
    },
    {
      "cell_type": "code",
      "source": [
        "x<-1:5\n",
        "y<-6:10\n",
        "ImprimiLinha()\n",
        "cat('Soma dos vetores x e y: ',x+y,'\\n')               #ocorre a soma dos valores de ambos os vetores\n",
        "ImprimiLinha()\n",
        "cat('Multiplicação de todo e vetor por 2 é: ',x*2,'\\n')               #podemos multiplicar um vetor por um numero\n",
        "ImprimiLinha()\n",
        "cat('Elevanto todo o vetor por 2:',x^2,'\\n')\n",
        "ImprimiLinha()\n",
        "z<-c(x,y) # Concetenando todos o vetor por x e y\n",
        "cat('Somando o vetor z com o vetor x: ',z+x,'\\n')\n",
        "ImprimiLinha()\n",
        "w<-1:3\n",
        "cat('Somando o vetor w com o vetor x: ',w+x, '\\n')\n",
        "ImprimiLinha()\n",
        "\n",
        "l<-c(T, T, F, T, F, F)\n",
        "l/2"
      ],
      "metadata": {
        "colab": {
          "base_uri": "https://localhost:8080/",
          "height": 468
        },
        "id": "fxXNoRsVrozW",
        "outputId": "c4c27786-65b7-4a16-b59c-d67227094a96"
      },
      "execution_count": null,
      "outputs": [
        {
          "output_type": "stream",
          "name": "stdout",
          "text": [
            "\n",
            "---------------------------------------------------\n",
            "\n",
            "Soma dos vetores x e y:  7 9 11 13 15 \n",
            "\n",
            "---------------------------------------------------\n",
            "\n",
            "Multiplicação de todo e vetor por 2 é:  2 4 6 8 10 \n",
            "\n",
            "---------------------------------------------------\n",
            "\n",
            "Elevanto todo o vetor por 2: 1 4 9 16 25 \n",
            "\n",
            "---------------------------------------------------\n",
            "\n",
            "Somando o vetor z com o vetor x:  2 4 6 8 10 7 9 11 13 15 \n",
            "\n",
            "---------------------------------------------------\n",
            "\n"
          ]
        },
        {
          "output_type": "stream",
          "name": "stderr",
          "text": [
            "Warning message in w + x:\n",
            "“longer object length is not a multiple of shorter object length”\n"
          ]
        },
        {
          "output_type": "stream",
          "name": "stdout",
          "text": [
            "Somando o vetor w com o vetor x:  2 4 6 5 7 \n",
            "\n",
            "---------------------------------------------------\n",
            "\n"
          ]
        },
        {
          "output_type": "display_data",
          "data": {
            "text/html": [
              "<style>\n",
              ".list-inline {list-style: none; margin:0; padding: 0}\n",
              ".list-inline>li {display: inline-block}\n",
              ".list-inline>li:not(:last-child)::after {content: \"\\00b7\"; padding: 0 .5ex}\n",
              "</style>\n",
              "<ol class=list-inline><li>0.5</li><li>0.5</li><li>0</li><li>0.5</li><li>0</li><li>0</li></ol>\n"
            ],
            "text/markdown": "1. 0.5\n2. 0.5\n3. 0\n4. 0.5\n5. 0\n6. 0\n\n\n",
            "text/latex": "\\begin{enumerate*}\n\\item 0.5\n\\item 0.5\n\\item 0\n\\item 0.5\n\\item 0\n\\item 0\n\\end{enumerate*}\n",
            "text/plain": [
              "[1] 0.5 0.5 0.0 0.5 0.0 0.0"
            ]
          },
          "metadata": {}
        }
      ]
    },
    {
      "cell_type": "markdown",
      "source": [
        "##Para acessar vetores, usamos [ ]"
      ],
      "metadata": {
        "id": "h3DO97O7rlsn"
      }
    },
    {
      "cell_type": "code",
      "source": [
        "letter<-c(\"x\", \"y\", \"z\", \"w\", \"j\")\n",
        "ImprimiLinha()\n",
        "cat('A segundo elemento de um vetor é: ',letter[2],'\\n')  #acessa o segundo elemento do vetor\n",
        "ImprimiLinha()\n",
        "cat('Os elementos de 2 a 4 são: ',letter[2:4],'\\n')   #podemos usar sequencia de valores\n",
        "ImprimiLinha()\n",
        "cat('Pegando somente o valor da posição 1  e 4: ',letter[c(1, 4)],'\\n')   #usamos a funcao c() para valores nao contiguos\n",
        "ImprimiLinha()\n",
        "cat('Deixando de fora valor do vetor na posição 2: ',letter[-2],'\\n')  #usamos numeros negativos para excluir um ou mais valores\n",
        "ImprimiLinha()\n",
        "cat('Deixando de fora mais de um valor do vetor na posicão 2 e 5: ',letter[c(-2, -5)],'\\n')\n",
        "ImprimiLinha()\n",
        "\n",
        "idx<-c(1, 4)  #podemos criar indices numericos\n",
        "cat('Imprimindo valores com base nos indices dos vetores criado: ',letter[idx],'\\n')\n",
        "ImprimiLinha()\n",
        "\n",
        "x<-1:10\n",
        "cat('Condicionados o valores que quero usar no vetor: ',x[x>7],'\\n')   #podemos usar \"<\", \"==\", \">=\", etc.\n",
        "ImprimiLinha()\n",
        "cat('Condicionados o valores que quero usar com caractere: ',letter[letter>\"k\"],'\\n')  #tambem eh possivel para caracteres\n",
        "ImprimiLinha()\n",
        "cat('Condicionados o valores que quero usar com caractere: ',letter[letter<\"k\"],'\\n')  #tambem eh possivel para caracteres\n",
        "ImprimiLinha()\n",
        "letter==\"z\""
      ],
      "metadata": {
        "colab": {
          "base_uri": "https://localhost:8080/",
          "height": 711
        },
        "id": "PVbU-d57rjwF",
        "outputId": "aeb94e99-29cb-4504-84f4-f5a06878c04f"
      },
      "execution_count": null,
      "outputs": [
        {
          "output_type": "stream",
          "name": "stdout",
          "text": [
            "\n",
            "---------------------------------------------------\n",
            "\n",
            "A segundo elemento de um vetor é:  y \n",
            "\n",
            "---------------------------------------------------\n",
            "\n",
            "Os elementos de 2 a 4 são:  y z w \n",
            "\n",
            "---------------------------------------------------\n",
            "\n",
            "Pegando somente o valor da posição 1  e 4:  x w \n",
            "\n",
            "---------------------------------------------------\n",
            "\n",
            "Deixando de fora valor do vetor na posição 2:  x z w j \n",
            "\n",
            "---------------------------------------------------\n",
            "\n",
            "Deixando de fora mais de um valor do vetor na posicão 2 e 5:  x z w \n",
            "\n",
            "---------------------------------------------------\n",
            "\n",
            "Imprimindo valores com base nos indices dos vetores criado:  x w \n",
            "\n",
            "---------------------------------------------------\n",
            "\n",
            "Condicionados o valores que quero usar no vetor:  8 9 10 \n",
            "\n",
            "---------------------------------------------------\n",
            "\n",
            "Condicionados o valores que quero usar com caractere:  x y z w \n",
            "\n",
            "---------------------------------------------------\n",
            "\n",
            "Condicionados o valores que quero usar com caractere:  j \n",
            "\n",
            "---------------------------------------------------\n",
            "\n"
          ]
        },
        {
          "output_type": "display_data",
          "data": {
            "text/html": [
              "<style>\n",
              ".list-inline {list-style: none; margin:0; padding: 0}\n",
              ".list-inline>li {display: inline-block}\n",
              ".list-inline>li:not(:last-child)::after {content: \"\\00b7\"; padding: 0 .5ex}\n",
              "</style>\n",
              "<ol class=list-inline><li>FALSE</li><li>FALSE</li><li>TRUE</li><li>FALSE</li><li>FALSE</li></ol>\n"
            ],
            "text/markdown": "1. FALSE\n2. FALSE\n3. TRUE\n4. FALSE\n5. FALSE\n\n\n",
            "text/latex": "\\begin{enumerate*}\n\\item FALSE\n\\item FALSE\n\\item TRUE\n\\item FALSE\n\\item FALSE\n\\end{enumerate*}\n",
            "text/plain": [
              "[1] FALSE FALSE  TRUE FALSE FALSE"
            ]
          },
          "metadata": {}
        }
      ]
    },
    {
      "cell_type": "markdown",
      "source": [
        "##Funções para identificar valores extremos"
      ],
      "metadata": {
        "id": "GEF_o9bQreqe"
      }
    },
    {
      "cell_type": "code",
      "source": [
        "set.seed(1)\n",
        "s<-sample(-1000:1000, 200) #Função criar valores aleatórios\n",
        "\n",
        "cat('A posição que está o maior valor é a ',which.max(s),'\\n')  #procura a posicao do maior valor\n",
        "ImprimiLinha()\n",
        "cat('O maior valor é ',max(s),'\\n')                  #imprime o maior valor\n",
        "ImprimiLinha()\n",
        "cat('O range dos valor é ',range(s),'\\n')\n",
        "ImprimiLinha()\n",
        "\n",
        "s>0                     #cria um vetor logico\n",
        "ImprimiLinha()\n",
        "which(s>0)              #cria um vetor com as posicoes que satisfazem o comando\n",
        "ImprimiLinha()\n",
        "\n",
        "#Ex.1: quantos valores de s sao maiores que 0?\n",
        "cat('O vetor S possue',length(s[s>0]),'valores positivos\\n')\n",
        "ImprimiLinha()\n",
        "\n",
        "#Ex.2: faca um vetor contendo os valores de S maiores do que 0.\n",
        "positivos <- c(s[s>0])\n",
        "positivos\n",
        "ImprimiLinha()"
      ],
      "metadata": {
        "colab": {
          "base_uri": "https://localhost:8080/",
          "height": 746
        },
        "id": "USCVR49Krcad",
        "outputId": "3bfda3af-4032-475d-c70f-670f95356d23"
      },
      "execution_count": null,
      "outputs": [
        {
          "output_type": "stream",
          "name": "stdout",
          "text": [
            "A posição que está o maior valor é a  126 \n",
            "\n",
            "---------------------------------------------------\n",
            "\n",
            "O maior valor é  997 \n",
            "\n",
            "---------------------------------------------------\n",
            "\n",
            "O range dos valor é  -982 997 \n",
            "\n",
            "---------------------------------------------------\n",
            "\n"
          ]
        },
        {
          "output_type": "display_data",
          "data": {
            "text/html": [
              "<style>\n",
              ".list-inline {list-style: none; margin:0; padding: 0}\n",
              ".list-inline>li {display: inline-block}\n",
              ".list-inline>li:not(:last-child)::after {content: \"\\00b7\"; padding: 0 .5ex}\n",
              "</style>\n",
              "<ol class=list-inline><li>TRUE</li><li>TRUE</li><li>FALSE</li><li>FALSE</li><li>FALSE</li><li>TRUE</li><li>FALSE</li><li>FALSE</li><li>FALSE</li><li>TRUE</li><li>TRUE</li><li>FALSE</li><li>TRUE</li><li>TRUE</li><li>TRUE</li><li>TRUE</li><li>FALSE</li><li>TRUE</li><li>TRUE</li><li>TRUE</li><li>TRUE</li><li>FALSE</li><li>TRUE</li><li>FALSE</li><li>FALSE</li><li>FALSE</li><li>TRUE</li><li>TRUE</li><li>FALSE</li><li>FALSE</li><li>TRUE</li><li>TRUE</li><li>FALSE</li><li>FALSE</li><li>FALSE</li><li>FALSE</li><li>FALSE</li><li>TRUE</li><li>FALSE</li><li>TRUE</li><li>FALSE</li><li>TRUE</li><li>TRUE</li><li>FALSE</li><li>TRUE</li><li>FALSE</li><li>FALSE</li><li>FALSE</li><li>FALSE</li><li>TRUE</li><li>FALSE</li><li>TRUE</li><li>FALSE</li><li>FALSE</li><li>FALSE</li><li>TRUE</li><li>FALSE</li><li>FALSE</li><li>FALSE</li><li>FALSE</li><li>TRUE</li><li>TRUE</li><li>TRUE</li><li>FALSE</li><li>FALSE</li><li>TRUE</li><li>TRUE</li><li>FALSE</li><li>TRUE</li><li>TRUE</li><li>FALSE</li><li>TRUE</li><li>FALSE</li><li>TRUE</li><li>TRUE</li><li>FALSE</li><li>TRUE</li><li>TRUE</li><li>TRUE</li><li>TRUE</li><li>TRUE</li><li>FALSE</li><li>FALSE</li><li>FALSE</li><li>TRUE</li><li>TRUE</li><li>TRUE</li><li>TRUE</li><li>TRUE</li><li>TRUE</li><li>TRUE</li><li>FALSE</li><li>TRUE</li><li>TRUE</li><li>TRUE</li><li>FALSE</li><li>FALSE</li><li>FALSE</li><li>TRUE</li><li>TRUE</li><li>FALSE</li><li>TRUE</li><li>FALSE</li><li>FALSE</li><li>TRUE</li><li>FALSE</li><li>FALSE</li><li>FALSE</li><li>FALSE</li><li>TRUE</li><li>TRUE</li><li>FALSE</li><li>TRUE</li><li>FALSE</li><li>FALSE</li><li>FALSE</li><li>TRUE</li><li>TRUE</li><li>TRUE</li><li>TRUE</li><li>FALSE</li><li>TRUE</li><li>TRUE</li><li>TRUE</li><li>FALSE</li><li>TRUE</li><li>FALSE</li><li>FALSE</li><li>FALSE</li><li>TRUE</li><li>TRUE</li><li>FALSE</li><li>TRUE</li><li>TRUE</li><li>FALSE</li><li>TRUE</li><li>FALSE</li><li>TRUE</li><li>FALSE</li><li>FALSE</li><li>FALSE</li><li>TRUE</li><li>TRUE</li><li>FALSE</li><li>TRUE</li><li>TRUE</li><li>TRUE</li><li>TRUE</li><li>TRUE</li><li>FALSE</li><li>TRUE</li><li>FALSE</li><li>TRUE</li><li>TRUE</li><li>FALSE</li><li>TRUE</li><li>FALSE</li><li>FALSE</li><li>FALSE</li><li>FALSE</li><li>TRUE</li><li>FALSE</li><li>TRUE</li><li>FALSE</li><li>FALSE</li><li>TRUE</li><li>FALSE</li><li>TRUE</li><li>TRUE</li><li>TRUE</li><li>FALSE</li><li>FALSE</li><li>FALSE</li><li>FALSE</li><li>FALSE</li><li>FALSE</li><li>TRUE</li><li>TRUE</li><li>FALSE</li><li>FALSE</li><li>TRUE</li><li>TRUE</li><li>FALSE</li><li>FALSE</li><li>TRUE</li><li>FALSE</li><li>TRUE</li><li>FALSE</li><li>FALSE</li><li>TRUE</li><li>TRUE</li><li>TRUE</li><li>TRUE</li><li>TRUE</li><li>FALSE</li><li>FALSE</li><li>FALSE</li><li>TRUE</li><li>FALSE</li><li>FALSE</li></ol>\n"
            ],
            "text/markdown": "1. TRUE\n2. TRUE\n3. FALSE\n4. FALSE\n5. FALSE\n6. TRUE\n7. FALSE\n8. FALSE\n9. FALSE\n10. TRUE\n11. TRUE\n12. FALSE\n13. TRUE\n14. TRUE\n15. TRUE\n16. TRUE\n17. FALSE\n18. TRUE\n19. TRUE\n20. TRUE\n21. TRUE\n22. FALSE\n23. TRUE\n24. FALSE\n25. FALSE\n26. FALSE\n27. TRUE\n28. TRUE\n29. FALSE\n30. FALSE\n31. TRUE\n32. TRUE\n33. FALSE\n34. FALSE\n35. FALSE\n36. FALSE\n37. FALSE\n38. TRUE\n39. FALSE\n40. TRUE\n41. FALSE\n42. TRUE\n43. TRUE\n44. FALSE\n45. TRUE\n46. FALSE\n47. FALSE\n48. FALSE\n49. FALSE\n50. TRUE\n51. FALSE\n52. TRUE\n53. FALSE\n54. FALSE\n55. FALSE\n56. TRUE\n57. FALSE\n58. FALSE\n59. FALSE\n60. FALSE\n61. TRUE\n62. TRUE\n63. TRUE\n64. FALSE\n65. FALSE\n66. TRUE\n67. TRUE\n68. FALSE\n69. TRUE\n70. TRUE\n71. FALSE\n72. TRUE\n73. FALSE\n74. TRUE\n75. TRUE\n76. FALSE\n77. TRUE\n78. TRUE\n79. TRUE\n80. TRUE\n81. TRUE\n82. FALSE\n83. FALSE\n84. FALSE\n85. TRUE\n86. TRUE\n87. TRUE\n88. TRUE\n89. TRUE\n90. TRUE\n91. TRUE\n92. FALSE\n93. TRUE\n94. TRUE\n95. TRUE\n96. FALSE\n97. FALSE\n98. FALSE\n99. TRUE\n100. TRUE\n101. FALSE\n102. TRUE\n103. FALSE\n104. FALSE\n105. TRUE\n106. FALSE\n107. FALSE\n108. FALSE\n109. FALSE\n110. TRUE\n111. TRUE\n112. FALSE\n113. TRUE\n114. FALSE\n115. FALSE\n116. FALSE\n117. TRUE\n118. TRUE\n119. TRUE\n120. TRUE\n121. FALSE\n122. TRUE\n123. TRUE\n124. TRUE\n125. FALSE\n126. TRUE\n127. FALSE\n128. FALSE\n129. FALSE\n130. TRUE\n131. TRUE\n132. FALSE\n133. TRUE\n134. TRUE\n135. FALSE\n136. TRUE\n137. FALSE\n138. TRUE\n139. FALSE\n140. FALSE\n141. FALSE\n142. TRUE\n143. TRUE\n144. FALSE\n145. TRUE\n146. TRUE\n147. TRUE\n148. TRUE\n149. TRUE\n150. FALSE\n151. TRUE\n152. FALSE\n153. TRUE\n154. TRUE\n155. FALSE\n156. TRUE\n157. FALSE\n158. FALSE\n159. FALSE\n160. FALSE\n161. TRUE\n162. FALSE\n163. TRUE\n164. FALSE\n165. FALSE\n166. TRUE\n167. FALSE\n168. TRUE\n169. TRUE\n170. TRUE\n171. FALSE\n172. FALSE\n173. FALSE\n174. FALSE\n175. FALSE\n176. FALSE\n177. TRUE\n178. TRUE\n179. FALSE\n180. FALSE\n181. TRUE\n182. TRUE\n183. FALSE\n184. FALSE\n185. TRUE\n186. FALSE\n187. TRUE\n188. FALSE\n189. FALSE\n190. TRUE\n191. TRUE\n192. TRUE\n193. TRUE\n194. TRUE\n195. FALSE\n196. FALSE\n197. FALSE\n198. TRUE\n199. FALSE\n200. FALSE\n\n\n",
            "text/latex": "\\begin{enumerate*}\n\\item TRUE\n\\item TRUE\n\\item FALSE\n\\item FALSE\n\\item FALSE\n\\item TRUE\n\\item FALSE\n\\item FALSE\n\\item FALSE\n\\item TRUE\n\\item TRUE\n\\item FALSE\n\\item TRUE\n\\item TRUE\n\\item TRUE\n\\item TRUE\n\\item FALSE\n\\item TRUE\n\\item TRUE\n\\item TRUE\n\\item TRUE\n\\item FALSE\n\\item TRUE\n\\item FALSE\n\\item FALSE\n\\item FALSE\n\\item TRUE\n\\item TRUE\n\\item FALSE\n\\item FALSE\n\\item TRUE\n\\item TRUE\n\\item FALSE\n\\item FALSE\n\\item FALSE\n\\item FALSE\n\\item FALSE\n\\item TRUE\n\\item FALSE\n\\item TRUE\n\\item FALSE\n\\item TRUE\n\\item TRUE\n\\item FALSE\n\\item TRUE\n\\item FALSE\n\\item FALSE\n\\item FALSE\n\\item FALSE\n\\item TRUE\n\\item FALSE\n\\item TRUE\n\\item FALSE\n\\item FALSE\n\\item FALSE\n\\item TRUE\n\\item FALSE\n\\item FALSE\n\\item FALSE\n\\item FALSE\n\\item TRUE\n\\item TRUE\n\\item TRUE\n\\item FALSE\n\\item FALSE\n\\item TRUE\n\\item TRUE\n\\item FALSE\n\\item TRUE\n\\item TRUE\n\\item FALSE\n\\item TRUE\n\\item FALSE\n\\item TRUE\n\\item TRUE\n\\item FALSE\n\\item TRUE\n\\item TRUE\n\\item TRUE\n\\item TRUE\n\\item TRUE\n\\item FALSE\n\\item FALSE\n\\item FALSE\n\\item TRUE\n\\item TRUE\n\\item TRUE\n\\item TRUE\n\\item TRUE\n\\item TRUE\n\\item TRUE\n\\item FALSE\n\\item TRUE\n\\item TRUE\n\\item TRUE\n\\item FALSE\n\\item FALSE\n\\item FALSE\n\\item TRUE\n\\item TRUE\n\\item FALSE\n\\item TRUE\n\\item FALSE\n\\item FALSE\n\\item TRUE\n\\item FALSE\n\\item FALSE\n\\item FALSE\n\\item FALSE\n\\item TRUE\n\\item TRUE\n\\item FALSE\n\\item TRUE\n\\item FALSE\n\\item FALSE\n\\item FALSE\n\\item TRUE\n\\item TRUE\n\\item TRUE\n\\item TRUE\n\\item FALSE\n\\item TRUE\n\\item TRUE\n\\item TRUE\n\\item FALSE\n\\item TRUE\n\\item FALSE\n\\item FALSE\n\\item FALSE\n\\item TRUE\n\\item TRUE\n\\item FALSE\n\\item TRUE\n\\item TRUE\n\\item FALSE\n\\item TRUE\n\\item FALSE\n\\item TRUE\n\\item FALSE\n\\item FALSE\n\\item FALSE\n\\item TRUE\n\\item TRUE\n\\item FALSE\n\\item TRUE\n\\item TRUE\n\\item TRUE\n\\item TRUE\n\\item TRUE\n\\item FALSE\n\\item TRUE\n\\item FALSE\n\\item TRUE\n\\item TRUE\n\\item FALSE\n\\item TRUE\n\\item FALSE\n\\item FALSE\n\\item FALSE\n\\item FALSE\n\\item TRUE\n\\item FALSE\n\\item TRUE\n\\item FALSE\n\\item FALSE\n\\item TRUE\n\\item FALSE\n\\item TRUE\n\\item TRUE\n\\item TRUE\n\\item FALSE\n\\item FALSE\n\\item FALSE\n\\item FALSE\n\\item FALSE\n\\item FALSE\n\\item TRUE\n\\item TRUE\n\\item FALSE\n\\item FALSE\n\\item TRUE\n\\item TRUE\n\\item FALSE\n\\item FALSE\n\\item TRUE\n\\item FALSE\n\\item TRUE\n\\item FALSE\n\\item FALSE\n\\item TRUE\n\\item TRUE\n\\item TRUE\n\\item TRUE\n\\item TRUE\n\\item FALSE\n\\item FALSE\n\\item FALSE\n\\item TRUE\n\\item FALSE\n\\item FALSE\n\\end{enumerate*}\n",
            "text/plain": [
              "  [1]  TRUE  TRUE FALSE FALSE FALSE  TRUE FALSE FALSE FALSE  TRUE  TRUE FALSE\n",
              " [13]  TRUE  TRUE  TRUE  TRUE FALSE  TRUE  TRUE  TRUE  TRUE FALSE  TRUE FALSE\n",
              " [25] FALSE FALSE  TRUE  TRUE FALSE FALSE  TRUE  TRUE FALSE FALSE FALSE FALSE\n",
              " [37] FALSE  TRUE FALSE  TRUE FALSE  TRUE  TRUE FALSE  TRUE FALSE FALSE FALSE\n",
              " [49] FALSE  TRUE FALSE  TRUE FALSE FALSE FALSE  TRUE FALSE FALSE FALSE FALSE\n",
              " [61]  TRUE  TRUE  TRUE FALSE FALSE  TRUE  TRUE FALSE  TRUE  TRUE FALSE  TRUE\n",
              " [73] FALSE  TRUE  TRUE FALSE  TRUE  TRUE  TRUE  TRUE  TRUE FALSE FALSE FALSE\n",
              " [85]  TRUE  TRUE  TRUE  TRUE  TRUE  TRUE  TRUE FALSE  TRUE  TRUE  TRUE FALSE\n",
              " [97] FALSE FALSE  TRUE  TRUE FALSE  TRUE FALSE FALSE  TRUE FALSE FALSE FALSE\n",
              "[109] FALSE  TRUE  TRUE FALSE  TRUE FALSE FALSE FALSE  TRUE  TRUE  TRUE  TRUE\n",
              "[121] FALSE  TRUE  TRUE  TRUE FALSE  TRUE FALSE FALSE FALSE  TRUE  TRUE FALSE\n",
              "[133]  TRUE  TRUE FALSE  TRUE FALSE  TRUE FALSE FALSE FALSE  TRUE  TRUE FALSE\n",
              "[145]  TRUE  TRUE  TRUE  TRUE  TRUE FALSE  TRUE FALSE  TRUE  TRUE FALSE  TRUE\n",
              "[157] FALSE FALSE FALSE FALSE  TRUE FALSE  TRUE FALSE FALSE  TRUE FALSE  TRUE\n",
              "[169]  TRUE  TRUE FALSE FALSE FALSE FALSE FALSE FALSE  TRUE  TRUE FALSE FALSE\n",
              "[181]  TRUE  TRUE FALSE FALSE  TRUE FALSE  TRUE FALSE FALSE  TRUE  TRUE  TRUE\n",
              "[193]  TRUE  TRUE FALSE FALSE FALSE  TRUE FALSE FALSE"
            ]
          },
          "metadata": {}
        },
        {
          "output_type": "stream",
          "name": "stdout",
          "text": [
            "\n",
            "---------------------------------------------------\n",
            "\n"
          ]
        },
        {
          "output_type": "display_data",
          "data": {
            "text/html": [
              "<style>\n",
              ".list-inline {list-style: none; margin:0; padding: 0}\n",
              ".list-inline>li {display: inline-block}\n",
              ".list-inline>li:not(:last-child)::after {content: \"\\00b7\"; padding: 0 .5ex}\n",
              "</style>\n",
              "<ol class=list-inline><li>1</li><li>2</li><li>6</li><li>10</li><li>11</li><li>13</li><li>14</li><li>15</li><li>16</li><li>18</li><li>19</li><li>20</li><li>21</li><li>23</li><li>27</li><li>28</li><li>31</li><li>32</li><li>38</li><li>40</li><li>42</li><li>43</li><li>45</li><li>50</li><li>52</li><li>56</li><li>61</li><li>62</li><li>63</li><li>66</li><li>67</li><li>69</li><li>70</li><li>72</li><li>74</li><li>75</li><li>77</li><li>78</li><li>79</li><li>80</li><li>81</li><li>85</li><li>86</li><li>87</li><li>88</li><li>89</li><li>90</li><li>91</li><li>93</li><li>94</li><li>95</li><li>99</li><li>100</li><li>102</li><li>105</li><li>110</li><li>111</li><li>113</li><li>117</li><li>118</li><li>119</li><li>120</li><li>122</li><li>123</li><li>124</li><li>126</li><li>130</li><li>131</li><li>133</li><li>134</li><li>136</li><li>138</li><li>142</li><li>143</li><li>145</li><li>146</li><li>147</li><li>148</li><li>149</li><li>151</li><li>153</li><li>154</li><li>156</li><li>161</li><li>163</li><li>166</li><li>168</li><li>169</li><li>170</li><li>177</li><li>178</li><li>181</li><li>182</li><li>185</li><li>187</li><li>190</li><li>191</li><li>192</li><li>193</li><li>194</li><li>198</li></ol>\n"
            ],
            "text/markdown": "1. 1\n2. 2\n3. 6\n4. 10\n5. 11\n6. 13\n7. 14\n8. 15\n9. 16\n10. 18\n11. 19\n12. 20\n13. 21\n14. 23\n15. 27\n16. 28\n17. 31\n18. 32\n19. 38\n20. 40\n21. 42\n22. 43\n23. 45\n24. 50\n25. 52\n26. 56\n27. 61\n28. 62\n29. 63\n30. 66\n31. 67\n32. 69\n33. 70\n34. 72\n35. 74\n36. 75\n37. 77\n38. 78\n39. 79\n40. 80\n41. 81\n42. 85\n43. 86\n44. 87\n45. 88\n46. 89\n47. 90\n48. 91\n49. 93\n50. 94\n51. 95\n52. 99\n53. 100\n54. 102\n55. 105\n56. 110\n57. 111\n58. 113\n59. 117\n60. 118\n61. 119\n62. 120\n63. 122\n64. 123\n65. 124\n66. 126\n67. 130\n68. 131\n69. 133\n70. 134\n71. 136\n72. 138\n73. 142\n74. 143\n75. 145\n76. 146\n77. 147\n78. 148\n79. 149\n80. 151\n81. 153\n82. 154\n83. 156\n84. 161\n85. 163\n86. 166\n87. 168\n88. 169\n89. 170\n90. 177\n91. 178\n92. 181\n93. 182\n94. 185\n95. 187\n96. 190\n97. 191\n98. 192\n99. 193\n100. 194\n101. 198\n\n\n",
            "text/latex": "\\begin{enumerate*}\n\\item 1\n\\item 2\n\\item 6\n\\item 10\n\\item 11\n\\item 13\n\\item 14\n\\item 15\n\\item 16\n\\item 18\n\\item 19\n\\item 20\n\\item 21\n\\item 23\n\\item 27\n\\item 28\n\\item 31\n\\item 32\n\\item 38\n\\item 40\n\\item 42\n\\item 43\n\\item 45\n\\item 50\n\\item 52\n\\item 56\n\\item 61\n\\item 62\n\\item 63\n\\item 66\n\\item 67\n\\item 69\n\\item 70\n\\item 72\n\\item 74\n\\item 75\n\\item 77\n\\item 78\n\\item 79\n\\item 80\n\\item 81\n\\item 85\n\\item 86\n\\item 87\n\\item 88\n\\item 89\n\\item 90\n\\item 91\n\\item 93\n\\item 94\n\\item 95\n\\item 99\n\\item 100\n\\item 102\n\\item 105\n\\item 110\n\\item 111\n\\item 113\n\\item 117\n\\item 118\n\\item 119\n\\item 120\n\\item 122\n\\item 123\n\\item 124\n\\item 126\n\\item 130\n\\item 131\n\\item 133\n\\item 134\n\\item 136\n\\item 138\n\\item 142\n\\item 143\n\\item 145\n\\item 146\n\\item 147\n\\item 148\n\\item 149\n\\item 151\n\\item 153\n\\item 154\n\\item 156\n\\item 161\n\\item 163\n\\item 166\n\\item 168\n\\item 169\n\\item 170\n\\item 177\n\\item 178\n\\item 181\n\\item 182\n\\item 185\n\\item 187\n\\item 190\n\\item 191\n\\item 192\n\\item 193\n\\item 194\n\\item 198\n\\end{enumerate*}\n",
            "text/plain": [
              "  [1]   1   2   6  10  11  13  14  15  16  18  19  20  21  23  27  28  31  32\n",
              " [19]  38  40  42  43  45  50  52  56  61  62  63  66  67  69  70  72  74  75\n",
              " [37]  77  78  79  80  81  85  86  87  88  89  90  91  93  94  95  99 100 102\n",
              " [55] 105 110 111 113 117 118 119 120 122 123 124 126 130 131 133 134 136 138\n",
              " [73] 142 143 145 146 147 148 149 151 153 154 156 161 163 166 168 169 170 177\n",
              " [91] 178 181 182 185 187 190 191 192 193 194 198"
            ]
          },
          "metadata": {}
        },
        {
          "output_type": "stream",
          "name": "stdout",
          "text": [
            "\n",
            "---------------------------------------------------\n",
            "\n",
            "O vetor S possue 101 valores positivos\n",
            "\n",
            "---------------------------------------------------\n",
            "\n"
          ]
        },
        {
          "output_type": "display_data",
          "data": {
            "text/html": [
              "<style>\n",
              ".list-inline {list-style: none; margin:0; padding: 0}\n",
              ".list-inline>li {display: inline-block}\n",
              ".list-inline>li:not(:last-child)::after {content: \"\\00b7\"; padding: 0 .5ex}\n",
              "</style>\n",
              "<ol class=list-inline><li>16</li><li>859</li><li>532</li><li>210</li><li>330</li><li>300</li><li>897</li><li>973</li><li>517</li><li>798</li><li>864</li><li>614</li><li>748</li><li>128</li><li>700</li><li>825</li><li>624</li><li>963</li><li>984</li><li>445</li><li>427</li><li>947</li><li>529</li><li>144</li><li>707</li><li>221</li><li>413</li><li>303</li><li>695</li><li>68</li><li>425</li><li>741</li><li>765</li><li>394</li><li>127</li><li>349</li><li>790</li><li>515</li><li>861</li><li>639</li><li>638</li><li>548</li><li>831</li><li>752</li><li>199</li><li>368</li><li>814</li><li>133</li><li>894</li><li>52</li><li>164</li><li>327</li><li>568</li><li>684</li><li>168</li><li>653</li><li>521</li><li>839</li><li>513</li><li>759</li><li>22</li><li>126</li><li>74</li><li>904</li><li>313</li><li>997</li><li>166</li><li>465</li><li>705</li><li>71</li><li>739</li><li>318</li><li>237</li><li>915</li><li>362</li><li>369</li><li>698</li><li>66</li><li>24</li><li>613</li><li>819</li><li>651</li><li>316</li><li>506</li><li>645</li><li>72</li><li>339</li><li>265</li><li>463</li><li>960</li><li>957</li><li>879</li><li>588</li><li>379</li><li>88</li><li>147</li><li>100</li><li>241</li><li>633</li><li>217</li><li>566</li></ol>\n"
            ],
            "text/markdown": "1. 16\n2. 859\n3. 532\n4. 210\n5. 330\n6. 300\n7. 897\n8. 973\n9. 517\n10. 798\n11. 864\n12. 614\n13. 748\n14. 128\n15. 700\n16. 825\n17. 624\n18. 963\n19. 984\n20. 445\n21. 427\n22. 947\n23. 529\n24. 144\n25. 707\n26. 221\n27. 413\n28. 303\n29. 695\n30. 68\n31. 425\n32. 741\n33. 765\n34. 394\n35. 127\n36. 349\n37. 790\n38. 515\n39. 861\n40. 639\n41. 638\n42. 548\n43. 831\n44. 752\n45. 199\n46. 368\n47. 814\n48. 133\n49. 894\n50. 52\n51. 164\n52. 327\n53. 568\n54. 684\n55. 168\n56. 653\n57. 521\n58. 839\n59. 513\n60. 759\n61. 22\n62. 126\n63. 74\n64. 904\n65. 313\n66. 997\n67. 166\n68. 465\n69. 705\n70. 71\n71. 739\n72. 318\n73. 237\n74. 915\n75. 362\n76. 369\n77. 698\n78. 66\n79. 24\n80. 613\n81. 819\n82. 651\n83. 316\n84. 506\n85. 645\n86. 72\n87. 339\n88. 265\n89. 463\n90. 960\n91. 957\n92. 879\n93. 588\n94. 379\n95. 88\n96. 147\n97. 100\n98. 241\n99. 633\n100. 217\n101. 566\n\n\n",
            "text/latex": "\\begin{enumerate*}\n\\item 16\n\\item 859\n\\item 532\n\\item 210\n\\item 330\n\\item 300\n\\item 897\n\\item 973\n\\item 517\n\\item 798\n\\item 864\n\\item 614\n\\item 748\n\\item 128\n\\item 700\n\\item 825\n\\item 624\n\\item 963\n\\item 984\n\\item 445\n\\item 427\n\\item 947\n\\item 529\n\\item 144\n\\item 707\n\\item 221\n\\item 413\n\\item 303\n\\item 695\n\\item 68\n\\item 425\n\\item 741\n\\item 765\n\\item 394\n\\item 127\n\\item 349\n\\item 790\n\\item 515\n\\item 861\n\\item 639\n\\item 638\n\\item 548\n\\item 831\n\\item 752\n\\item 199\n\\item 368\n\\item 814\n\\item 133\n\\item 894\n\\item 52\n\\item 164\n\\item 327\n\\item 568\n\\item 684\n\\item 168\n\\item 653\n\\item 521\n\\item 839\n\\item 513\n\\item 759\n\\item 22\n\\item 126\n\\item 74\n\\item 904\n\\item 313\n\\item 997\n\\item 166\n\\item 465\n\\item 705\n\\item 71\n\\item 739\n\\item 318\n\\item 237\n\\item 915\n\\item 362\n\\item 369\n\\item 698\n\\item 66\n\\item 24\n\\item 613\n\\item 819\n\\item 651\n\\item 316\n\\item 506\n\\item 645\n\\item 72\n\\item 339\n\\item 265\n\\item 463\n\\item 960\n\\item 957\n\\item 879\n\\item 588\n\\item 379\n\\item 88\n\\item 147\n\\item 100\n\\item 241\n\\item 633\n\\item 217\n\\item 566\n\\end{enumerate*}\n",
            "text/plain": [
              "  [1]  16 859 532 210 330 300 897 973 517 798 864 614 748 128 700 825 624 963\n",
              " [19] 984 445 427 947 529 144 707 221 413 303 695  68 425 741 765 394 127 349\n",
              " [37] 790 515 861 639 638 548 831 752 199 368 814 133 894  52 164 327 568 684\n",
              " [55] 168 653 521 839 513 759  22 126  74 904 313 997 166 465 705  71 739 318\n",
              " [73] 237 915 362 369 698  66  24 613 819 651 316 506 645  72 339 265 463 960\n",
              " [91] 957 879 588 379  88 147 100 241 633 217 566"
            ]
          },
          "metadata": {}
        },
        {
          "output_type": "stream",
          "name": "stdout",
          "text": [
            "\n",
            "---------------------------------------------------\n",
            "\n"
          ]
        }
      ]
    },
    {
      "cell_type": "markdown",
      "source": [
        "##Funcões de ordenamento"
      ],
      "metadata": {
        "id": "zcpln6q6rLnv"
      }
    },
    {
      "cell_type": "code",
      "source": [
        "x<-c(3, 8, 2, 1, 5, 9, 7, 7, 3)\n",
        "ImprimiLinha()\n",
        "cat('O vetor é ',x,'\\n')\n",
        "ImprimiLinha()\n",
        "cat('Ordenando o vetor em ordem crescente ',sort(x), '\\n')  #ordena um vetor\n",
        "ImprimiLinha()\n",
        "cat('Ordenando o vetor em ordem descrescente ',sort(x, decreasing = T), '\\n')\n",
        "ImprimiLinha()\n",
        "cat('Mostra por quais posições devemos começar a organizar dataframe',order(x),'\\n') #pega a ordem de cada elemento para torna-lo crescente\n",
        "ImprimiLinha()\n",
        "cat('Mudando as ordens do vetor randomicament',sample(x),'\\n') #randomiza\n",
        "ImprimiLinha()\n",
        "cat('Ele seleciona somente os valores unicos',unique(x)) #elimina as replicatas\n",
        "ImprimiLinha()\n",
        "cat('Ele criar um vetor logico dizendo se o valor é duplicado ou não',duplicated(x)) #logico\n",
        "ImprimiLinha()\n",
        "\n",
        "#Ex.3: quantos duplicados existem em x?\n",
        "\n",
        "#Opção 1\n",
        "tamDuplicadas <- duplicated(x)\n",
        "length(tamDuplicadas[tamDuplicadas == TRUE])\n",
        "ImprimiLinha()\n",
        "#opção 2\n",
        "sum(duplicated(x))\n",
        "ImprimiLinha()"
      ],
      "metadata": {
        "colab": {
          "base_uri": "https://localhost:8080/",
          "height": 659
        },
        "id": "P9-4hkmqrKB-",
        "outputId": "af75bd8b-773d-4446-90a0-4d328ef4d0cb"
      },
      "execution_count": 3,
      "outputs": [
        {
          "output_type": "stream",
          "name": "stdout",
          "text": [
            "\n",
            "---------------------------------------------------\n",
            "\n",
            "O vetor é  3 8 2 1 5 9 7 7 3 \n",
            "\n",
            "---------------------------------------------------\n",
            "\n",
            "Ordenando o vetor em ordem crescente  1 2 3 3 5 7 7 8 9 \n",
            "\n",
            "---------------------------------------------------\n",
            "\n",
            "Ordenando o vetor em ordem descrescente  9 8 7 7 5 3 3 2 1 \n",
            "\n",
            "---------------------------------------------------\n",
            "\n",
            "Mostra por quais posições devemos começar a organizar dataframe 4 3 1 9 5 7 8 2 6 \n",
            "\n",
            "---------------------------------------------------\n",
            "\n",
            "Mudando as ordens do vetor randomicament 3 3 2 7 8 1 5 9 7 \n",
            "\n",
            "---------------------------------------------------\n",
            "\n",
            "Ele seleciona somente os valores unicos 3 8 2 1 5 9 7\n",
            "---------------------------------------------------\n",
            "\n",
            "Ele criar um vetor logico dizendo se o valor é duplicado ou não FALSE FALSE FALSE FALSE FALSE FALSE FALSE TRUE TRUE\n",
            "---------------------------------------------------\n",
            "\n"
          ]
        },
        {
          "output_type": "display_data",
          "data": {
            "text/html": [
              "2"
            ],
            "text/markdown": "2",
            "text/latex": "2",
            "text/plain": [
              "[1] 2"
            ]
          },
          "metadata": {}
        },
        {
          "output_type": "stream",
          "name": "stdout",
          "text": [
            "\n",
            "---------------------------------------------------\n",
            "\n"
          ]
        },
        {
          "output_type": "display_data",
          "data": {
            "text/html": [
              "2"
            ],
            "text/markdown": "2",
            "text/latex": "2",
            "text/plain": [
              "[1] 2"
            ]
          },
          "metadata": {}
        },
        {
          "output_type": "stream",
          "name": "stdout",
          "text": [
            "\n",
            "---------------------------------------------------\n",
            "\n"
          ]
        }
      ]
    },
    {
      "cell_type": "markdown",
      "source": [
        "#Trabalhando com data.frames"
      ],
      "metadata": {
        "id": "WoteSraxqlMG"
      }
    },
    {
      "cell_type": "markdown",
      "source": [
        "##para acessar data.frames e listas usamos [], [[]] ou $"
      ],
      "metadata": {
        "id": "9amDX1u6qhmo"
      }
    },
    {
      "cell_type": "code",
      "source": [
        "dt<-data.frame(number=c(1, 2, 3, 4, 5),\n",
        "               letter = c(\"x\", \"y\", \"z\", \"w\", \"j\"),\n",
        "               logical = c(TRUE, FALSE, FALSE, TRUE, FALSE))\n",
        "\n",
        "dt[[1]]              # [[ ]] acessa cada coluna por posicao\n",
        "dt[,1]               # [ ] acessa as coordenadas [linha, coluna]\n",
        "dt$number            # $ acessa cada coluna por nome"
      ],
      "metadata": {
        "id": "AG-6QAMtqfOq",
        "outputId": "7eb0e882-ad1f-4d9d-afc5-ce8e2119580f",
        "colab": {
          "base_uri": "https://localhost:8080/",
          "height": 69
        }
      },
      "execution_count": 7,
      "outputs": [
        {
          "output_type": "display_data",
          "data": {
            "text/html": [
              "<style>\n",
              ".list-inline {list-style: none; margin:0; padding: 0}\n",
              ".list-inline>li {display: inline-block}\n",
              ".list-inline>li:not(:last-child)::after {content: \"\\00b7\"; padding: 0 .5ex}\n",
              "</style>\n",
              "<ol class=list-inline><li>1</li><li>2</li><li>3</li><li>4</li><li>5</li></ol>\n"
            ],
            "text/markdown": "1. 1\n2. 2\n3. 3\n4. 4\n5. 5\n\n\n",
            "text/latex": "\\begin{enumerate*}\n\\item 1\n\\item 2\n\\item 3\n\\item 4\n\\item 5\n\\end{enumerate*}\n",
            "text/plain": [
              "[1] 1 2 3 4 5"
            ]
          },
          "metadata": {}
        },
        {
          "output_type": "display_data",
          "data": {
            "text/html": [
              "<style>\n",
              ".list-inline {list-style: none; margin:0; padding: 0}\n",
              ".list-inline>li {display: inline-block}\n",
              ".list-inline>li:not(:last-child)::after {content: \"\\00b7\"; padding: 0 .5ex}\n",
              "</style>\n",
              "<ol class=list-inline><li>1</li><li>2</li><li>3</li><li>4</li><li>5</li></ol>\n"
            ],
            "text/markdown": "1. 1\n2. 2\n3. 3\n4. 4\n5. 5\n\n\n",
            "text/latex": "\\begin{enumerate*}\n\\item 1\n\\item 2\n\\item 3\n\\item 4\n\\item 5\n\\end{enumerate*}\n",
            "text/plain": [
              "[1] 1 2 3 4 5"
            ]
          },
          "metadata": {}
        },
        {
          "output_type": "display_data",
          "data": {
            "text/html": [
              "<style>\n",
              ".list-inline {list-style: none; margin:0; padding: 0}\n",
              ".list-inline>li {display: inline-block}\n",
              ".list-inline>li:not(:last-child)::after {content: \"\\00b7\"; padding: 0 .5ex}\n",
              "</style>\n",
              "<ol class=list-inline><li>1</li><li>2</li><li>3</li><li>4</li><li>5</li></ol>\n"
            ],
            "text/markdown": "1. 1\n2. 2\n3. 3\n4. 4\n5. 5\n\n\n",
            "text/latex": "\\begin{enumerate*}\n\\item 1\n\\item 2\n\\item 3\n\\item 4\n\\item 5\n\\end{enumerate*}\n",
            "text/plain": [
              "[1] 1 2 3 4 5"
            ]
          },
          "metadata": {}
        }
      ]
    },
    {
      "cell_type": "markdown",
      "source": [
        "##Data.frames possuem colnames e rownames"
      ],
      "metadata": {
        "id": "jw_pFrA3qW-d"
      }
    },
    {
      "cell_type": "code",
      "source": [
        "colnames(dt)\n",
        "row.names(dt)"
      ],
      "metadata": {
        "id": "ZCf7Z2sqqX8u",
        "outputId": "23f36f75-f0a4-4208-faa8-ae002b86b253",
        "colab": {
          "base_uri": "https://localhost:8080/",
          "height": 52
        }
      },
      "execution_count": 8,
      "outputs": [
        {
          "output_type": "display_data",
          "data": {
            "text/html": [
              "<style>\n",
              ".list-inline {list-style: none; margin:0; padding: 0}\n",
              ".list-inline>li {display: inline-block}\n",
              ".list-inline>li:not(:last-child)::after {content: \"\\00b7\"; padding: 0 .5ex}\n",
              "</style>\n",
              "<ol class=list-inline><li>'number'</li><li>'letter'</li><li>'logical'</li></ol>\n"
            ],
            "text/markdown": "1. 'number'\n2. 'letter'\n3. 'logical'\n\n\n",
            "text/latex": "\\begin{enumerate*}\n\\item 'number'\n\\item 'letter'\n\\item 'logical'\n\\end{enumerate*}\n",
            "text/plain": [
              "[1] \"number\"  \"letter\"  \"logical\""
            ]
          },
          "metadata": {}
        },
        {
          "output_type": "display_data",
          "data": {
            "text/html": [
              "<style>\n",
              ".list-inline {list-style: none; margin:0; padding: 0}\n",
              ".list-inline>li {display: inline-block}\n",
              ".list-inline>li:not(:last-child)::after {content: \"\\00b7\"; padding: 0 .5ex}\n",
              "</style>\n",
              "<ol class=list-inline><li>'1'</li><li>'2'</li><li>'3'</li><li>'4'</li><li>'5'</li></ol>\n"
            ],
            "text/markdown": "1. '1'\n2. '2'\n3. '3'\n4. '4'\n5. '5'\n\n\n",
            "text/latex": "\\begin{enumerate*}\n\\item '1'\n\\item '2'\n\\item '3'\n\\item '4'\n\\item '5'\n\\end{enumerate*}\n",
            "text/plain": [
              "[1] \"1\" \"2\" \"3\" \"4\" \"5\""
            ]
          },
          "metadata": {}
        }
      ]
    },
    {
      "cell_type": "markdown",
      "source": [
        "\n",
        "##podemos alterar colanmes e rownames"
      ],
      "metadata": {
        "id": "tqv7IjomqKR3"
      }
    },
    {
      "cell_type": "code",
      "source": [
        "row.names(dt)<-c(\"a\", \"b\", \"c\", \"d\", \"e\")\n",
        "colnames(dt)[2]<-\"letras\"     #alteramos unicamente a posicao 2"
      ],
      "metadata": {
        "id": "8-wAsyEoqIB4"
      },
      "execution_count": 9,
      "outputs": []
    },
    {
      "cell_type": "markdown",
      "source": [
        "##podemos alterar valores especificos de um data.frame"
      ],
      "metadata": {
        "id": "ekt9m363qCpm"
      }
    },
    {
      "cell_type": "code",
      "source": [
        "dt[3,1]<-\"10\"\n",
        "dt$logical<-as.numeric(dt$logical)\n",
        "dt$letras<-NA"
      ],
      "metadata": {
        "id": "EHDkaCIQp-9W"
      },
      "execution_count": 10,
      "outputs": []
    },
    {
      "cell_type": "code",
      "source": [
        "dt"
      ],
      "metadata": {
        "id": "xP0aAJBaPKoG",
        "outputId": "35c8cfba-c7e4-4ac2-8ed0-78dfccaec968",
        "colab": {
          "base_uri": "https://localhost:8080/",
          "height": 255
        }
      },
      "execution_count": 11,
      "outputs": [
        {
          "output_type": "display_data",
          "data": {
            "text/html": [
              "<table class=\"dataframe\">\n",
              "<caption>A data.frame: 5 × 3</caption>\n",
              "<thead>\n",
              "\t<tr><th></th><th scope=col>number</th><th scope=col>letras</th><th scope=col>logical</th></tr>\n",
              "\t<tr><th></th><th scope=col>&lt;chr&gt;</th><th scope=col>&lt;lgl&gt;</th><th scope=col>&lt;dbl&gt;</th></tr>\n",
              "</thead>\n",
              "<tbody>\n",
              "\t<tr><th scope=row>a</th><td>1 </td><td>NA</td><td>1</td></tr>\n",
              "\t<tr><th scope=row>b</th><td>2 </td><td>NA</td><td>0</td></tr>\n",
              "\t<tr><th scope=row>c</th><td>10</td><td>NA</td><td>0</td></tr>\n",
              "\t<tr><th scope=row>d</th><td>4 </td><td>NA</td><td>1</td></tr>\n",
              "\t<tr><th scope=row>e</th><td>5 </td><td>NA</td><td>0</td></tr>\n",
              "</tbody>\n",
              "</table>\n"
            ],
            "text/markdown": "\nA data.frame: 5 × 3\n\n| <!--/--> | number &lt;chr&gt; | letras &lt;lgl&gt; | logical &lt;dbl&gt; |\n|---|---|---|---|\n| a | 1  | NA | 1 |\n| b | 2  | NA | 0 |\n| c | 10 | NA | 0 |\n| d | 4  | NA | 1 |\n| e | 5  | NA | 0 |\n\n",
            "text/latex": "A data.frame: 5 × 3\n\\begin{tabular}{r|lll}\n  & number & letras & logical\\\\\n  & <chr> & <lgl> & <dbl>\\\\\n\\hline\n\ta & 1  & NA & 1\\\\\n\tb & 2  & NA & 0\\\\\n\tc & 10 & NA & 0\\\\\n\td & 4  & NA & 1\\\\\n\te & 5  & NA & 0\\\\\n\\end{tabular}\n",
            "text/plain": [
              "  number letras logical\n",
              "a 1      NA     1      \n",
              "b 2      NA     0      \n",
              "c 10     NA     0      \n",
              "d 4      NA     1      \n",
              "e 5      NA     0      "
            ]
          },
          "metadata": {}
        }
      ]
    },
    {
      "cell_type": "markdown",
      "source": [
        "##Podemos verificar as ocorrencias de um data.frame em outro"
      ],
      "metadata": {
        "id": "fFyDV3rQp1zu"
      }
    },
    {
      "cell_type": "markdown",
      "source": [
        "**NA** é a notação para dados faltantes no dataframe"
      ],
      "metadata": {
        "id": "nlpV-WUKPO38"
      }
    },
    {
      "cell_type": "code",
      "source": [
        "biometria<-data.frame(nomes=c(\"Carlos\", \"Roberto\", \"Olivio\", \"Joel\"),\n",
        "                      altura=c(180, 187, 155, 168),\n",
        "                      peso=c(80, 90, 98, 64))\n",
        "esportes<-data.frame(nomes=c(\"Carlos\", \"Roberto\", \"Olivio\", \"Jomar\"),\n",
        "                     esportes=c(\"futebol\", \"remo\", \"sumo\", \"maratona\"))\n",
        "\n"
      ],
      "metadata": {
        "id": "cBVATPlzp3aO"
      },
      "execution_count": 12,
      "outputs": []
    },
    {
      "cell_type": "code",
      "source": [
        "biometria$nomes%in%esportes$nomes         #constroi um logico"
      ],
      "metadata": {
        "id": "L8ekjSugPXsX",
        "outputId": "16b4fc62-317d-4cb7-acfc-ae590ccdc68b",
        "colab": {
          "base_uri": "https://localhost:8080/",
          "height": 34
        }
      },
      "execution_count": 13,
      "outputs": [
        {
          "output_type": "display_data",
          "data": {
            "text/html": [
              "<style>\n",
              ".list-inline {list-style: none; margin:0; padding: 0}\n",
              ".list-inline>li {display: inline-block}\n",
              ".list-inline>li:not(:last-child)::after {content: \"\\00b7\"; padding: 0 .5ex}\n",
              "</style>\n",
              "<ol class=list-inline><li>TRUE</li><li>TRUE</li><li>TRUE</li><li>FALSE</li></ol>\n"
            ],
            "text/markdown": "1. TRUE\n2. TRUE\n3. TRUE\n4. FALSE\n\n\n",
            "text/latex": "\\begin{enumerate*}\n\\item TRUE\n\\item TRUE\n\\item TRUE\n\\item FALSE\n\\end{enumerate*}\n",
            "text/plain": [
              "[1]  TRUE  TRUE  TRUE FALSE"
            ]
          },
          "metadata": {}
        }
      ]
    },
    {
      "cell_type": "code",
      "source": [
        "idx<-biometria$nomes%in%esportes$nomes    #pode ser usado como indice"
      ],
      "metadata": {
        "id": "6lNqwHzEPr51"
      },
      "execution_count": 14,
      "outputs": []
    },
    {
      "cell_type": "code",
      "source": [
        "x<-biometria[idx,]"
      ],
      "metadata": {
        "id": "ekM5FAQDPufl"
      },
      "execution_count": 15,
      "outputs": []
    },
    {
      "cell_type": "markdown",
      "source": [
        "##ordenando data.frames por uma coluna"
      ],
      "metadata": {
        "id": "9VAg2vdYpsXM"
      }
    },
    {
      "cell_type": "code",
      "source": [
        "biometria<-biometria[with(biometria, order(altura)), ]"
      ],
      "metadata": {
        "id": "f5G8MsOippQT"
      },
      "execution_count": 16,
      "outputs": []
    },
    {
      "cell_type": "code",
      "source": [
        "biometria"
      ],
      "metadata": {
        "id": "FjQrZE6-Sc8E",
        "outputId": "66d08af0-9d23-431c-8820-e69d52b59e9b",
        "colab": {
          "base_uri": "https://localhost:8080/",
          "height": 224
        }
      },
      "execution_count": 17,
      "outputs": [
        {
          "output_type": "display_data",
          "data": {
            "text/html": [
              "<table class=\"dataframe\">\n",
              "<caption>A data.frame: 4 × 3</caption>\n",
              "<thead>\n",
              "\t<tr><th></th><th scope=col>nomes</th><th scope=col>altura</th><th scope=col>peso</th></tr>\n",
              "\t<tr><th></th><th scope=col>&lt;chr&gt;</th><th scope=col>&lt;dbl&gt;</th><th scope=col>&lt;dbl&gt;</th></tr>\n",
              "</thead>\n",
              "<tbody>\n",
              "\t<tr><th scope=row>3</th><td>Olivio </td><td>155</td><td>98</td></tr>\n",
              "\t<tr><th scope=row>4</th><td>Joel   </td><td>168</td><td>64</td></tr>\n",
              "\t<tr><th scope=row>1</th><td>Carlos </td><td>180</td><td>80</td></tr>\n",
              "\t<tr><th scope=row>2</th><td>Roberto</td><td>187</td><td>90</td></tr>\n",
              "</tbody>\n",
              "</table>\n"
            ],
            "text/markdown": "\nA data.frame: 4 × 3\n\n| <!--/--> | nomes &lt;chr&gt; | altura &lt;dbl&gt; | peso &lt;dbl&gt; |\n|---|---|---|---|\n| 3 | Olivio  | 155 | 98 |\n| 4 | Joel    | 168 | 64 |\n| 1 | Carlos  | 180 | 80 |\n| 2 | Roberto | 187 | 90 |\n\n",
            "text/latex": "A data.frame: 4 × 3\n\\begin{tabular}{r|lll}\n  & nomes & altura & peso\\\\\n  & <chr> & <dbl> & <dbl>\\\\\n\\hline\n\t3 & Olivio  & 155 & 98\\\\\n\t4 & Joel    & 168 & 64\\\\\n\t1 & Carlos  & 180 & 80\\\\\n\t2 & Roberto & 187 & 90\\\\\n\\end{tabular}\n",
            "text/plain": [
              "  nomes   altura peso\n",
              "3 Olivio  155    98  \n",
              "4 Joel    168    64  \n",
              "1 Carlos  180    80  \n",
              "2 Roberto 187    90  "
            ]
          },
          "metadata": {}
        }
      ]
    },
    {
      "cell_type": "markdown",
      "source": [
        "##unindo data.frames com a funcao merge()"
      ],
      "metadata": {
        "id": "NBBsnPn3pkFq"
      }
    },
    {
      "cell_type": "code",
      "source": [
        "unido<-merge(biometria, esportes, by=\"nomes\")   #OBS.:Independe da ordem dos data.frames!\n",
        "#A busca eh feita pelo nome, nao pela ordem!\n",
        "#O resultado sempre virah em ordem alfabetica!\n",
        "\n",
        "unido<-merge(biometria, esportes, by=\"nomes\", all.x=T)#com todos presentos no primeiro\n",
        "unido<-merge(biometria, esportes, by=\"nomes\", all.y=T)#com todos presentos no segundo\n",
        "unido<-merge(biometria, esportes, by=\"nomes\", all=T)#com todos presentos\n",
        "#OBS.: nesse caso, as informacoes faltantes sao preenchidas por NA!"
      ],
      "metadata": {
        "id": "5lTZzcPephvg"
      },
      "execution_count": 23,
      "outputs": []
    },
    {
      "cell_type": "code",
      "source": [
        "unido"
      ],
      "metadata": {
        "id": "7HLWpR8CUW51",
        "outputId": "9e57493d-dcf1-48b2-b354-04f1d9acdacf",
        "colab": {
          "base_uri": "https://localhost:8080/",
          "height": 224
        }
      },
      "execution_count": 22,
      "outputs": [
        {
          "output_type": "display_data",
          "data": {
            "text/html": [
              "<table class=\"dataframe\">\n",
              "<caption>A data.frame: 4 × 4</caption>\n",
              "<thead>\n",
              "\t<tr><th scope=col>nomes</th><th scope=col>altura</th><th scope=col>peso</th><th scope=col>esportes</th></tr>\n",
              "\t<tr><th scope=col>&lt;chr&gt;</th><th scope=col>&lt;dbl&gt;</th><th scope=col>&lt;dbl&gt;</th><th scope=col>&lt;chr&gt;</th></tr>\n",
              "</thead>\n",
              "<tbody>\n",
              "\t<tr><td>Carlos </td><td>180</td><td>80</td><td>futebol</td></tr>\n",
              "\t<tr><td>Joel   </td><td>168</td><td>64</td><td>NA     </td></tr>\n",
              "\t<tr><td>Olivio </td><td>155</td><td>98</td><td>sumo   </td></tr>\n",
              "\t<tr><td>Roberto</td><td>187</td><td>90</td><td>remo   </td></tr>\n",
              "</tbody>\n",
              "</table>\n"
            ],
            "text/markdown": "\nA data.frame: 4 × 4\n\n| nomes &lt;chr&gt; | altura &lt;dbl&gt; | peso &lt;dbl&gt; | esportes &lt;chr&gt; |\n|---|---|---|---|\n| Carlos  | 180 | 80 | futebol |\n| Joel    | 168 | 64 | NA      |\n| Olivio  | 155 | 98 | sumo    |\n| Roberto | 187 | 90 | remo    |\n\n",
            "text/latex": "A data.frame: 4 × 4\n\\begin{tabular}{llll}\n nomes & altura & peso & esportes\\\\\n <chr> & <dbl> & <dbl> & <chr>\\\\\n\\hline\n\t Carlos  & 180 & 80 & futebol\\\\\n\t Joel    & 168 & 64 & NA     \\\\\n\t Olivio  & 155 & 98 & sumo   \\\\\n\t Roberto & 187 & 90 & remo   \\\\\n\\end{tabular}\n",
            "text/plain": [
              "  nomes   altura peso esportes\n",
              "1 Carlos  180    80   futebol \n",
              "2 Joel    168    64   NA      \n",
              "3 Olivio  155    98   sumo    \n",
              "4 Roberto 187    90   remo    "
            ]
          },
          "metadata": {}
        }
      ]
    },
    {
      "cell_type": "markdown",
      "source": [
        "#Acessando listas        \n"
      ],
      "metadata": {
        "id": "GNE0nsLVpN0R"
      }
    },
    {
      "cell_type": "code",
      "source": [
        "ls<-list(a=c(\"x\", \"y\", \"z\", \"w\", \"j\"), b=1:4, c=c(\"Joca\", \"Bia\", \"Licurgo\"), d=dt)\n",
        "\n",
        "ls[1]\n",
        "ls[[1]]\n",
        "ls$a\n",
        "\n",
        "class(ls[1])\n",
        "class(ls[[1]])\n",
        "\n",
        "ls[[c(3,2)]]      #posicao na lista e posicao no elemento"
      ],
      "metadata": {
        "id": "y-PmcKqLpK8k",
        "outputId": "58b31d9b-7f9b-45bd-f1e2-388479d00ed1",
        "colab": {
          "base_uri": "https://localhost:8080/",
          "height": 139
        }
      },
      "execution_count": 24,
      "outputs": [
        {
          "output_type": "display_data",
          "data": {
            "text/html": [
              "<strong>$a</strong> = <style>\n",
              ".list-inline {list-style: none; margin:0; padding: 0}\n",
              ".list-inline>li {display: inline-block}\n",
              ".list-inline>li:not(:last-child)::after {content: \"\\00b7\"; padding: 0 .5ex}\n",
              "</style>\n",
              "<ol class=list-inline><li>'x'</li><li>'y'</li><li>'z'</li><li>'w'</li><li>'j'</li></ol>\n"
            ],
            "text/markdown": "**$a** = 1. 'x'\n2. 'y'\n3. 'z'\n4. 'w'\n5. 'j'\n\n\n",
            "text/latex": "\\textbf{\\$a} = \\begin{enumerate*}\n\\item 'x'\n\\item 'y'\n\\item 'z'\n\\item 'w'\n\\item 'j'\n\\end{enumerate*}\n",
            "text/plain": [
              "$a\n",
              "[1] \"x\" \"y\" \"z\" \"w\" \"j\"\n"
            ]
          },
          "metadata": {}
        },
        {
          "output_type": "display_data",
          "data": {
            "text/html": [
              "<style>\n",
              ".list-inline {list-style: none; margin:0; padding: 0}\n",
              ".list-inline>li {display: inline-block}\n",
              ".list-inline>li:not(:last-child)::after {content: \"\\00b7\"; padding: 0 .5ex}\n",
              "</style>\n",
              "<ol class=list-inline><li>'x'</li><li>'y'</li><li>'z'</li><li>'w'</li><li>'j'</li></ol>\n"
            ],
            "text/markdown": "1. 'x'\n2. 'y'\n3. 'z'\n4. 'w'\n5. 'j'\n\n\n",
            "text/latex": "\\begin{enumerate*}\n\\item 'x'\n\\item 'y'\n\\item 'z'\n\\item 'w'\n\\item 'j'\n\\end{enumerate*}\n",
            "text/plain": [
              "[1] \"x\" \"y\" \"z\" \"w\" \"j\""
            ]
          },
          "metadata": {}
        },
        {
          "output_type": "display_data",
          "data": {
            "text/html": [
              "<style>\n",
              ".list-inline {list-style: none; margin:0; padding: 0}\n",
              ".list-inline>li {display: inline-block}\n",
              ".list-inline>li:not(:last-child)::after {content: \"\\00b7\"; padding: 0 .5ex}\n",
              "</style>\n",
              "<ol class=list-inline><li>'x'</li><li>'y'</li><li>'z'</li><li>'w'</li><li>'j'</li></ol>\n"
            ],
            "text/markdown": "1. 'x'\n2. 'y'\n3. 'z'\n4. 'w'\n5. 'j'\n\n\n",
            "text/latex": "\\begin{enumerate*}\n\\item 'x'\n\\item 'y'\n\\item 'z'\n\\item 'w'\n\\item 'j'\n\\end{enumerate*}\n",
            "text/plain": [
              "[1] \"x\" \"y\" \"z\" \"w\" \"j\""
            ]
          },
          "metadata": {}
        },
        {
          "output_type": "display_data",
          "data": {
            "text/html": [
              "'list'"
            ],
            "text/markdown": "'list'",
            "text/latex": "'list'",
            "text/plain": [
              "[1] \"list\""
            ]
          },
          "metadata": {}
        },
        {
          "output_type": "display_data",
          "data": {
            "text/html": [
              "'character'"
            ],
            "text/markdown": "'character'",
            "text/latex": "'character'",
            "text/plain": [
              "[1] \"character\""
            ]
          },
          "metadata": {}
        },
        {
          "output_type": "display_data",
          "data": {
            "text/html": [
              "'Bia'"
            ],
            "text/markdown": "'Bia'",
            "text/latex": "'Bia'",
            "text/plain": [
              "[1] \"Bia\""
            ]
          },
          "metadata": {}
        }
      ]
    }
  ]
}