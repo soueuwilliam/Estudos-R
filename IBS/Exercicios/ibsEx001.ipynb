{
 "cells": [
  {
   "cell_type": "markdown",
   "metadata": {},
   "source": [
    "# Exercício 01 - Introdução ao R \n",
    "\n",
    "Vetores\n",
    "\n",
    "Em R, os vetores são um dos tipos mais básicos de objetos. Eles são parecidos com os vetores que vimos na matemática A diferença é que aqui podemos ter vetores não só de números, mas também de letras (caracteres). Um vetor de números pode ser construído assim:\n",
    "\n",
    "``` R\n",
    "num <- c(1,2,3,4) \n",
    "```\n",
    "\n",
    "Se você executar essa linha acima terá criado um vetor com o nome de \"num\" e que contém os elementos 1,2,3 e 4.Em R, para criarmos um vetor, utilizamos a função \"c()\".  \n",
    "\n",
    "## Exercício 1\n",
    "\n",
    "Experimente fazer um vetor chamado \"num2\" e que contenha os seguintes elementos: 1,a,3,b. Depois veja qual a classe dos elementos desse vetor.Usando a função class().  \n",
    "**OBS: Não esqueça que letras e palavras tem de ser colocadas entre aspas.**   \n",
    "\n",
    "Agora crie um vetor num3 com os elementos: 1,2,3,4,5. Use a função class() para saber qual a classe dos elementos desse vetor:  \n",
    "Por que a classe dos vetores 'num2' e 'num3' é diferente?"
   ]
  },
  {
   "cell_type": "markdown",
   "metadata": {},
   "source": [
    "## Exercício 2\n",
    "\n",
    "José e Paulo adoram jogar basquete nas suas horas livres. Eles mantém uma competição entre si e por isso decidiram registrar todos os pontos que eles marcam durante as partidas.Até agora foram 8 partidas e  \n",
    "José fez 8, 10, 12, 9, 15, 16, 11, 7 cestas.  \n",
    "Paulo fez 5, 11, 13, 14, 23, 14, 9, 10 cestas.  \n",
    "\n",
    "Crie dois objetos que contenham o número de cestas que cada um fez:\n",
    "\n",
    "\n",
    "Verifique a que classe de cada um dos objetos:\n",
    "\n",
    "\n",
    "Com a utilização da ajuda do R, procure por uma função que possibilite o cálculo de médias.Com ela, calcule as médias de cestas dos dois jogadores e atribua estes valores a objetos diferentes:  \n",
    "\n",
    "Compare os valores das médias calculadas usando os operadores lógicos \">\" e \"<\".\n",
    "Quem teve um desempenho médio melhor?"
   ]
  }
 ],
 "metadata": {
  "kernelspec": {
   "display_name": "R",
   "language": "R",
   "name": "ir"
  },
  "language_info": {
   "name": "R"
  }
 },
 "nbformat": 4,
 "nbformat_minor": 2
}
