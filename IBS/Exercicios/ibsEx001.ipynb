{
  "cells": [
    {
      "cell_type": "markdown",
      "metadata": {
        "id": "QBmH-RaadLK_"
      },
      "source": [
        "# Exercício 01 - Introdução ao R\n",
        "\n",
        "Vetores\n",
        "\n",
        "Em R, os vetores são um dos tipos mais básicos de objetos. Eles são parecidos com os vetores que vimos na matemática A diferença é que aqui podemos ter vetores não só de números, mas também de letras (caracteres). Um vetor de números pode ser construído assim:\n",
        "\n",
        "``` R\n",
        "num <- c(1,2,3,4)\n",
        "```\n",
        "\n",
        "Se você executar essa linha acima terá criado um vetor com o nome de \"num\" e que contém os elementos 1,2,3 e 4.Em R, para criarmos um vetor, utilizamos a função \"c()\".  \n",
        "\n"
      ]
    },
    {
      "cell_type": "code",
      "source": [
        "num <-c(1,2,3,4)\n",
        "num"
      ],
      "metadata": {
        "id": "oQefiUBidyX5",
        "outputId": "72146e86-15bd-4a0b-bddc-367d3d788cf8",
        "colab": {
          "base_uri": "https://localhost:8080/",
          "height": 34
        }
      },
      "execution_count": 2,
      "outputs": [
        {
          "output_type": "display_data",
          "data": {
            "text/html": [
              "<style>\n",
              ".list-inline {list-style: none; margin:0; padding: 0}\n",
              ".list-inline>li {display: inline-block}\n",
              ".list-inline>li:not(:last-child)::after {content: \"\\00b7\"; padding: 0 .5ex}\n",
              "</style>\n",
              "<ol class=list-inline><li>1</li><li>2</li><li>3</li><li>4</li></ol>\n"
            ],
            "text/markdown": "1. 1\n2. 2\n3. 3\n4. 4\n\n\n",
            "text/latex": "\\begin{enumerate*}\n\\item 1\n\\item 2\n\\item 3\n\\item 4\n\\end{enumerate*}\n",
            "text/plain": [
              "[1] 1 2 3 4"
            ]
          },
          "metadata": {}
        }
      ]
    },
    {
      "cell_type": "markdown",
      "source": [
        "## Exercício 1\n",
        "\n",
        "Experimente fazer um vetor chamado \"num2\" e que contenha os seguintes elementos: 1,a,3,b. Depois veja qual a classe dos elementos desse vetor.Usando a função class().  \n",
        "**OBS: Não esqueça que letras e palavras tem de ser colocadas entre aspas.**   \n",
        "\n",
        "Agora crie um vetor num3 com os elementos: 1,2,3,4,5. Use a função class() para saber qual a classe dos elementos desse vetor:  \n",
        "Por que a classe dos vetores 'num2' e 'num3' é diferente?"
      ],
      "metadata": {
        "id": "HaMgJfq4dw4W"
      }
    },
    {
      "cell_type": "code",
      "source": [
        "num2 <- c(1,'a',3,'b')\n",
        "cat(\"o vetor\", num2 , \"é do tipo \",class(num2),\"\\n\" )\n",
        "\n",
        "num3 <- c(1,2,3,4,5)\n",
        "cat(\"o vetor\", num3 , \"é do tipo \",class(num3) )\n",
        "\n"
      ],
      "metadata": {
        "id": "PCuroW67eBl-",
        "outputId": "d8686b81-e872-49de-ba6e-0fd1889fea9f",
        "colab": {
          "base_uri": "https://localhost:8080/"
        }
      },
      "execution_count": 10,
      "outputs": [
        {
          "output_type": "stream",
          "name": "stdout",
          "text": [
            "o vetor 1 a 3 b é do tipo  character \n",
            "o vetor 1 2 3 4 5 é do tipo  numeric"
          ]
        }
      ]
    },
    {
      "cell_type": "markdown",
      "source": [
        "### Respostas Exercicio 01\n",
        "\n",
        "Vetores são objetos mais basicos em R que suportam apenas **UM** tipo de dados caso tentamos colocar tipos diferente em um vetor ele irá converter todo o vetor para o tipo de maior prioridade no caso de num2 ele converter todo o vetor para string"
      ],
      "metadata": {
        "id": "HhT8mwvjeavQ"
      }
    },
    {
      "cell_type": "markdown",
      "metadata": {
        "id": "FmuZ66-ddLLD"
      },
      "source": [
        "## Exercício 2\n",
        "\n",
        "José e Paulo adoram jogar basquete nas suas horas livres. Eles mantém uma competição entre si e por isso decidiram registrar todos os pontos que eles marcam durante as partidas.Até agora foram 8 partidas e  \n",
        "José fez 8, 10, 12, 9, 15, 16, 11, 7 cestas.  \n",
        "Paulo fez 5, 11, 13, 14, 23, 14, 9, 10 cestas.  \n",
        "\n",
        "Crie dois objetos que contenham o número de cestas que cada um fez:\n",
        "\n",
        "\n",
        "Verifique a que classe de cada um dos objetos:\n",
        "\n",
        "\n",
        "Com a utilização da ajuda do R, procure por uma função que possibilite o cálculo de médias.Com ela, calcule as médias de cestas dos dois jogadores e atribua estes valores a objetos diferentes:  \n",
        "\n",
        "Compare os valores das médias calculadas usando os operadores lógicos \">\" e \"<\".\n",
        "Quem teve um desempenho médio melhor?"
      ]
    },
    {
      "cell_type": "code",
      "source": [
        "josePontos <- c(8, 10, 12, 9, 15, 16, 11, 7)\n",
        "pauloPontos <- c(5, 11, 13, 14, 23, 14, 9, 10)\n",
        "\n",
        "cat(\"José tem um media de\", mean(josePontos),\"cestas por jogo e joão tem um média de \", mean(pauloPontos,),\"\\n\")\n",
        "if(mean(josePontos) > mean(pauloPontos)){\n",
        "  print(\"José teve desempenho que Paulo\")\n",
        "}else if(mean(josePontos) < mean(pauloPontos)){\n",
        "  print(\"Paulo teve melhor desempenho que José\")\n",
        "}else{\n",
        "  print(\"Os dois tiveram o mesmo desempenho\")\n",
        "}\n"
      ],
      "metadata": {
        "id": "TqrXSqoyhYQi",
        "outputId": "ec562488-bbc5-41ad-cd70-3178ab6c282f",
        "colab": {
          "base_uri": "https://localhost:8080/"
        }
      },
      "execution_count": 17,
      "outputs": [
        {
          "output_type": "stream",
          "name": "stdout",
          "text": [
            "José tem um media de 11 cestas por jogo e joão tem um média de  12.375 \n",
            "[1] \"Paulo teve melhor desempenho que José\"\n"
          ]
        }
      ]
    }
  ],
  "metadata": {
    "kernelspec": {
      "display_name": "R",
      "name": "ir"
    },
    "language_info": {
      "name": "R"
    },
    "colab": {
      "provenance": [],
      "toc_visible": true
    }
  },
  "nbformat": 4,
  "nbformat_minor": 0
}