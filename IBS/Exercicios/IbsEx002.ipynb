{
  "nbformat": 4,
  "nbformat_minor": 0,
  "metadata": {
    "colab": {
      "provenance": [],
      "authorship_tag": "ABX9TyNYTrq9pUp4uphD/ntmWQ3j",
      "include_colab_link": true
    },
    "kernelspec": {
      "name": "ir",
      "display_name": "R"
    },
    "language_info": {
      "name": "R"
    }
  },
  "cells": [
    {
      "cell_type": "markdown",
      "metadata": {
        "id": "view-in-github",
        "colab_type": "text"
      },
      "source": [
        "<a href=\"https://colab.research.google.com/github/soueuwilliam/Estudos-R/blob/main/IbsEx002.ipynb\" target=\"_parent\"><img src=\"https://colab.research.google.com/assets/colab-badge.svg\" alt=\"Open In Colab\"/></a>"
      ]
    },
    {
      "cell_type": "code",
      "execution_count": null,
      "metadata": {
        "id": "8600xt-5xPl9"
      },
      "outputs": [],
      "source": [
        "arquivo_r <- '/content/exercicio_2.R'\n",
        "\n",
        "# Leia e imprima o conteúdo do arquivo\n",
        "cat(readLines(arquivo_r), sep = '\\n')"
      ]
    },
    {
      "cell_type": "code",
      "source": [
        "# Questão 1 ---------------------------------------------------------------\n",
        "\n",
        "# Considere o seguinte vetor:\n",
        "x <- c(1, 45, 6, 88, 30, 4)\n",
        "\n",
        "# Obtenha um outro vetor a partir deste que contenha apenas os elementos da posição 2 e da última posição.\n",
        "vetor_novo <- x[c(2, length(x))]\n",
        "\n",
        "\n",
        "# Atribua um nome para cada um dos elementos do vetor x.\n",
        "nomes <- c(\"Primeiro\", \"Segundo\", \"Terceiro\", \"Quarto\", \"Quinto\", \"Sexto\")\n",
        "names(x) <- nomes\n",
        "print(x)\n",
        "# Ordene o vetor x, em ordem crescente, de duas maneiras: usando a função sort() e a função order().\n",
        "x_ordenado_sort <- sort(x)\n",
        "print(x_ordenado_sort)\n",
        "ordem_x <- order(x)\n",
        "x_ordenado_order <- x[ordem_x]\n",
        "print(x_ordenado_order)\n"
      ],
      "metadata": {
        "id": "IhHjv9I9zKQV"
      },
      "execution_count": null,
      "outputs": []
    },
    {
      "cell_type": "code",
      "source": [
        "# Questão 2 ---------------------------------------------------------------\n",
        "\n",
        "# Considere os seguintes vetores\n",
        "x <- c(5, 2, 1, 4)\n",
        "xx <- c(1, 10, 15, 18)\n",
        "y <- rep(1, 5)\n",
        "z <- c(TRUE, FALSE, TRUE, TRUE)\n",
        "w <- c(\"Maria\", \"Elisa\", \"Pedro\")\n",
        "\n",
        "# Explique a operação realizada por cada um dos comandos nos itens abaixo:\n",
        "\n",
        "# 1)\n",
        "sum(x) #soma todos os elementos do vetor x\n",
        "range(x) #Indica o intevalo entre os vetores\n",
        "length(y) # tamanho do vetor y\n",
        "sum(y) # Soma todos os valores do vetor y\n",
        "\n",
        "\n",
        "\n",
        "# 2)\n",
        "c(x, y, 13) #Cria um vetor com os vetores de x e y\n",
        "\n",
        "\n",
        "\n",
        "# 3)\n",
        "xx - x # subtrai o valor x dos elementos corespondentes e xx\n",
        "c(x, 12) * y # cria um vetor com o vetor x e 12 e multiplica pelos elementos de y\n",
        "1:6 + 1 #cria um vetor de um a seis e adiciona um a cada vetor\n",
        "1:9 + 1:2\n",
        "\n",
        "\n",
        "\n",
        "# # 4)\n",
        "x <= 2 #cria um vetor logico para saber se o elemento é menor ou igual a 2\n",
        "x <= 2 & z\n",
        "\n",
        "\n",
        "\n",
        "# # 5)\n",
        "# substring(w, 2, 4)\n",
        "# paste(substring(w, 1, 2), substring(w, 5, 5), sep = \"...\")\n"
      ],
      "metadata": {
        "id": "VPnSxvL5zP4X"
      },
      "execution_count": null,
      "outputs": []
    },
    {
      "cell_type": "code",
      "source": [
        "# Questão 3 ---------------------------------------------------------------\n",
        "\n",
        "# Considere o vetor:\n",
        "set.seed(1)\n",
        "v <- sample(1:100, 20)\n",
        "\n",
        "\n",
        "# Quantos elementos do vetor 'v' são maiores que 60?\n",
        "maiores_que_60 <- sum(v > 60)\n",
        "print(maiores_que_60)\n",
        "\n",
        "# Quais as posições do vetor 'v' que contem elementos maiores que 60?\n",
        "posicoes_maiores_que_60 <- which(v > 60)\n",
        "print(posicoes_maiores_que_60)\n",
        "\n",
        "# Obtenha o valor máximo do vetor 'v'. Use pelo menos duas abordagens diferentes.\n",
        "valor_maximo_1 <- max(v)\n",
        "print(valor_maximo_1)\n",
        "\n",
        "v_ordenado <- sort(v, decreasing = TRUE)\n",
        "valor_maximo_2 <- v_ordenado[1]\n",
        "print(valor_maximo_2)"
      ],
      "metadata": {
        "id": "Vobxp2VMzViU"
      },
      "execution_count": null,
      "outputs": []
    },
    {
      "cell_type": "code",
      "source": [
        "# Questão 4 ---------------------------------------------------------------\n",
        "\n",
        "# Crie as seguintes sequências apenas usando as funções 'rep()' e 'seq()'.\n",
        "# Verifique a documentação das funções.\n",
        "\n",
        "# 1) 1 2 3 4 5 6 7 8 9\n",
        "seq(1,9)\n",
        "\n",
        "\n",
        "# 2) \"m\" \"w\" \"m\" \"w\" \"m\" \"w\" \"m\" \"w\" \"m\" \"w\"\n",
        "rep(c(\"m\",\"w\"),5)\n",
        "\n",
        "\n",
        "# 3) 1 2 3 4 1 2 3 4 1 2 3 4\n",
        "rep(seq(1,4),3)\n",
        "\n",
        "\n",
        "# 4) 4 4 4 3 3 3 2 2 2 1 1 1\n",
        "rep(4:1, each = 3)\n",
        "\n",
        "# 5) 1 2 2 3 3 3 4 4 4 4 5 5 5 5 5\n",
        "\n",
        "\n",
        "# 6) 1 1 3 3 5 5 7 7 9 9 11 11\n",
        "rep(seq(1, 11, by = 2), each = 2)"
      ],
      "metadata": {
        "id": "0bnIX72Uze6n"
      },
      "execution_count": null,
      "outputs": []
    }
  ]
}