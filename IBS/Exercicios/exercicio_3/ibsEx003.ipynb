{
  "cells": [
    {
      "cell_type": "markdown",
      "metadata": {
        "id": "view-in-github",
        "colab_type": "text"
      },
      "source": [
        "<a href=\"https://colab.research.google.com/github/soueuwilliam/Estudos-R/blob/main/IBS/Exercicios/exercicio_3/ibsEx003.ipynb\" target=\"_parent\"><img src=\"https://colab.research.google.com/assets/colab-badge.svg\" alt=\"Open In Colab\"/></a>"
      ]
    },
    {
      "cell_type": "markdown",
      "metadata": {
        "id": "791Wyer-tqP7"
      },
      "source": [
        "#Exercício - Importação e Exportação de dados  \n",
        "\n",
        " Este exercício será feito usando o arquivo 'happiness.csv' disponibilizado no sigaa.\n",
        "\n",
        " ## Questão 1\n",
        "\n",
        " Neste exercício, vamos importar uma tabela (em arquivo de texto) como um dataframe, fazer algumas operações\n",
        " e em seguida vamos salvar o resultado em um outro arquivo de texto.\n",
        " Antes de importar o arquivo, verifique sua estrutura (como as colunas estão separadas, se tem cabeçalho, etc.)\n",
        "\n",
        "\n",
        " Importe o arquivo corretamente e o armazene em uma variável. Obs.: A tabela possui alguns campos numéricos\n",
        " onde o separador decimal é uma vírgula. Importe a tabela de modo que as vírgulas sejam transformadas\n",
        " em pontos (procure ajuda na documentação das funções de importação vistas na aula).\n",
        "\n",
        "\n",
        " Verifique se a classe das colunas do dataframe condizem com o tipo de dado armazenado. Por exemplo,\n",
        " a coluna dos países é um vetor de caracter?\n",
        "\n",
        "\n",
        " Crie um subset do dataframe contendo apenas as informações dos países da América Latina e Caribe.\n",
        "\n",
        "\n",
        " De acordo com o rank de felicidade, qual país da América Latina é o mais feliz?\n",
        "\n",
        "\n",
        " Crie um outro subset contendo apenas os países europeus. Calcule a média de felicidade (baseando-se\n",
        " no score de felicidade) dos países europeus e dos países da América Latina. Em qual região as\n",
        " pessoas são mais felizes?\n",
        "\n",
        "\n",
        " Salve o dataframe com as informações da América Latina em um arquivo de texto. Ele deve utilizar como\n",
        " separador o ';'.\n",
        "\n",
        "\n",
        "\n",
        "\n"
      ]
    },
    {
      "cell_type": "code",
      "source": [
        "df <- read.table(\"https://raw.githubusercontent.com/soueuwilliam/Estudos-R/main/IBS/Exercicios/exercicio_3/happiness.csv\", header = TRUE, stringsAsFactors = F, sep = \"\\t\", dec = \",\")"
      ],
      "metadata": {
        "id": "5MT_3FWrus_I",
        "outputId": "5729d3ae-ccd5-433f-bd94-f21f8aeeeeaa",
        "colab": {
          "base_uri": "https://localhost:8080/",
          "height": 141
        }
      },
      "execution_count": 5,
      "outputs": [
        {
          "output_type": "error",
          "ename": "ERROR",
          "evalue": "Error in read.table(\"https://raw.githubusercontent.com/soueuwilliam/Estudos-R/main/IBS/Exercicios/exercicio_3/happiness.csv\", : more columns than column names\n",
          "traceback": [
            "Error in read.table(\"https://raw.githubusercontent.com/soueuwilliam/Estudos-R/main/IBS/Exercicios/exercicio_3/happiness.csv\", : more columns than column names\nTraceback:\n",
            "1. read.table(\"https://raw.githubusercontent.com/soueuwilliam/Estudos-R/main/IBS/Exercicios/exercicio_3/happiness.csv\", \n .     header = TRUE, stringsAsFactors = F, sep = \"\\t\", dec = \",\")",
            "2. stop(\"more columns than column names\")"
          ]
        }
      ]
    }
  ],
  "metadata": {
    "language_info": {
      "name": "R"
    },
    "colab": {
      "provenance": [],
      "include_colab_link": true
    },
    "kernelspec": {
      "name": "ir",
      "display_name": "R"
    }
  },
  "nbformat": 4,
  "nbformat_minor": 0
}