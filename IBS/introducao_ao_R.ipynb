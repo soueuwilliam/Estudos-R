{
  "nbformat": 4,
  "nbformat_minor": 0,
  "metadata": {
    "colab": {
      "provenance": [],
      "toc_visible": true,
      "authorship_tag": "ABX9TyNnhCtIHA9lAg1F0Gf4I1c4",
      "include_colab_link": true
    },
    "kernelspec": {
      "name": "ir",
      "display_name": "R"
    },
    "language_info": {
      "name": "R"
    }
  },
  "cells": [
    {
      "cell_type": "markdown",
      "metadata": {
        "id": "view-in-github",
        "colab_type": "text"
      },
      "source": [
        "<a href=\"https://colab.research.google.com/github/soueuwilliam/Estudos-R/blob/main/IBS/introducao_ao_R.ipynb\" target=\"_parent\"><img src=\"https://colab.research.google.com/assets/colab-badge.svg\" alt=\"Open In Colab\"/></a>"
      ]
    },
    {
      "cell_type": "markdown",
      "source": [
        "# INTRODUÇÃO AO R"
      ],
      "metadata": {
        "id": "gsDmDw5nn7KJ"
      }
    },
    {
      "cell_type": "markdown",
      "source": [
        "  ## Operações simples        \n"
      ],
      "metadata": {
        "id": "FiJ1FTPYnVVb"
      }
    },
    {
      "cell_type": "code",
      "source": [
        "\n",
        "\n",
        "# Aritmetica basica\n",
        "2+5         #adicao\n",
        "5-2         #subtracao\n",
        "2*5         #multiplicacao\n",
        "8/2         #divisao\n",
        "2^5         #exponenciacao\n",
        "\n",
        "# Avaliacao logica\n",
        "3==5\t      #igual\n",
        "3!=5\t      #diferente\n",
        "3>5\t        #maior que\n",
        "3<5\t        #menor que\n",
        "3>=5\t      #maior ou igual\n",
        "3<=5\t      #menor ou igual\n",
        "\n",
        "\n",
        "# Operacoes concatenadas\n",
        "((2+5-3)*10)^4/7^4\n",
        "\n",
        "\n"
      ],
      "metadata": {
        "id": "5wrgGMi6mGMm"
      },
      "execution_count": null,
      "outputs": []
    },
    {
      "cell_type": "markdown",
      "source": [
        "## Variáveis"
      ],
      "metadata": {
        "id": "7BuMDxLeosxs"
      }
    },
    {
      "cell_type": "code",
      "source": [
        "x<-1        # A seta \"<-\" representa o simbolo de atribuicao\n",
        "x           # Ao escrever o nome do objeto, seu valor sera impresso\n",
        "\n",
        "y<-\"gol do gremio!\"\n",
        "y\n",
        "\n",
        "#Os resultados da operacao podem ser salvos em objetos\n",
        "x<-2+5\n",
        "y=5-2\n",
        "2*5->w\n",
        "z<-8/2\n",
        "\n",
        "(((x-y)*w)^z)/(x^z)\n"
      ],
      "metadata": {
        "id": "fpupoL_-msCc"
      },
      "execution_count": null,
      "outputs": []
    },
    {
      "cell_type": "markdown",
      "source": [
        "## Funções              \n"
      ],
      "metadata": {
        "id": "p0NzjbMcpOjJ"
      }
    },
    {
      "cell_type": "code",
      "source": [
        "\n",
        "\n",
        "# Chamadas pelo nome\n",
        "sum(1,3,5)\n",
        "\n",
        "# Podem receber argumentos\n",
        "a<-rep(\"Aluno\",times=3)\n",
        "a\n",
        "\n",
        "\n"
      ],
      "metadata": {
        "id": "w89yHlTfmyWi"
      },
      "execution_count": null,
      "outputs": []
    },
    {
      "cell_type": "markdown",
      "source": [
        "\n",
        "## Ajuda              "
      ],
      "metadata": {
        "id": "mzDDEiGDpmNl"
      }
    },
    {
      "cell_type": "code",
      "source": [
        "help(sum)         #acessa a documentacao do R\n",
        "?sd\n",
        "??plot"
      ],
      "metadata": {
        "id": "sbnNGHH2m5bS"
      },
      "execution_count": null,
      "outputs": []
    },
    {
      "cell_type": "markdown",
      "source": [
        "\n",
        "## Vectors              "
      ],
      "metadata": {
        "id": "ByqunXwjpt_X"
      }
    },
    {
      "cell_type": "code",
      "source": [
        "#funcao c() : concatenate\n",
        "number<-c(1, 2, 3, 4, 5)\n",
        "letter<-c(\"x\", \"y\", \"z\", \"w\", \"j\")\n",
        "logical<- c(TRUE, FALSE, FALSE, TRUE, FALSE)\n",
        "seq<-1:10\n",
        "\n",
        "#hierarquia de classes\n",
        "x<-c(1, 2, 3)                 #numeric\n",
        "y<-c(\"1\", \"2\", \"3\")           #character\n",
        "\n",
        "\n",
        "x<-c(TRUE, FALSE, FALSE)      #logical\n",
        "y<-c(\"TRUE\", \"FALSE\", \"FALSE\")#character\n",
        "\n",
        "sum(logical)           #Podemos somar vetores logicos\n",
        "\n",
        "#OBS. vetores comportam somente uma classe de elementos\n",
        "\n",
        "\n",
        "#coercao de objetos usando funcoes do tipo as.algumacoisa()\n",
        "x<-0:10\n",
        "x\n",
        "class(x)\n",
        "\n",
        "a<-as.numeric(x)\n",
        "a\n",
        "class(a)\n",
        "\n",
        "b<-as.character(x)\n",
        "b\n",
        "class(b)\n",
        "\n",
        "c<-as.logical(x)\n",
        "c\n",
        "class(c)\n",
        "\n",
        "#vetores de NA\n",
        "x<-c(1, 2, 3, NA)\n",
        "y<-c(\"a\", \"b\", \"c\", NA)\n",
        "\n",
        "is.na(x)\n",
        "\n",
        "a <- c(1, 3, NA, 7, 9)\n",
        "sum(a)\n",
        "sum(a, na.rm=TRUE)\n",
        "\n",
        "\n",
        "#objetos possuem atributos: classe, tamanho, dimensoes, nomes, etc\n",
        "x<-1:5\n",
        "x\n",
        "length(x)\n",
        "dim(x)\n",
        "attributes(x)\n",
        "names(x)<-c(\"a\", \"b\", \"c\", \"d\", \"e\")\n",
        "x\n",
        "attributes(x)\n"
      ],
      "metadata": {
        "id": "2TTRE6Aem9f6"
      },
      "execution_count": null,
      "outputs": []
    },
    {
      "cell_type": "markdown",
      "source": [
        "## Factor\n"
      ],
      "metadata": {
        "id": "RlzJ4ZTDqBDG"
      }
    },
    {
      "cell_type": "code",
      "source": [
        "\n",
        "\n",
        "#fatores sao vetores categoricos, possuem o atributo level\n",
        "\n",
        "x<-factor(c(\"s\", \"n\", \"n\", \"s\", \"s\"))\n",
        "z<-factor(c(\"alto\", \"baixo\", \"medio\"))\n"
      ],
      "metadata": {
        "id": "EjPKCu8FnBba"
      },
      "execution_count": null,
      "outputs": []
    },
    {
      "cell_type": "markdown",
      "source": [
        "\n",
        "## Matrix              "
      ],
      "metadata": {
        "id": "r2qU2JgUqOxO"
      }
    },
    {
      "cell_type": "code",
      "source": [
        "#matrizes sao vetores com o atributo dimensao\n",
        "x<-1:20\n",
        "x\n",
        "attributes(x)\n",
        "\n",
        "m<-matrix(x, 4, 5)\n",
        "m\n",
        "attributes(m)\n",
        "\n",
        "dim(x)<-c(4,5)\n",
        "x\n",
        "identical(x, m)\n",
        "\n",
        "#OBS.: como sao vetores, matrizes comportam somente uma classe de elementos\n",
        "a<-1:5\n",
        "b<--1:-5\n",
        "c<-c(3, 6, 4, 9, 1)\n",
        "\n",
        "m<-cbind(a, b, c)       #funcao cbind() concatena colunas\n",
        "m1<-rbind(a, b, c)      #funcao rbind() concatena linhas\n"
      ],
      "metadata": {
        "id": "g5Z2pkW6nF9j"
      },
      "execution_count": null,
      "outputs": []
    },
    {
      "cell_type": "markdown",
      "source": [
        "\n",
        "##  Array  "
      ],
      "metadata": {
        "id": "1rQ8_z6VqWiV"
      }
    },
    {
      "cell_type": "code",
      "source": [
        "ar<-array(1:200, c(5, 10, 4))    #vetores multidimensionais\n",
        "ar\n",
        "ar[,,1]                          #[linha, coluna, matrix]\n",
        "\n"
      ],
      "metadata": {
        "id": "Q_82VUrdnJ5H"
      },
      "execution_count": null,
      "outputs": []
    },
    {
      "cell_type": "markdown",
      "source": [
        "\n",
        "## List"
      ],
      "metadata": {
        "id": "w6bWgSDVqeor"
      }
    },
    {
      "cell_type": "code",
      "source": [
        "\n",
        "# listas sao tipos especiais de vetores, que comportam elementos de deferentes classes\n",
        "a <- c(1, 3, NA, 7, 9)\n",
        "b<-matrix(1:200, 20,10)\n",
        "c<-\"Gol do Gremio\"\n",
        "z<-factor(c(\"alto\", \"baixo\", \"medio\"))\n",
        "\n",
        "ls<-list(a, b, c, z)\n",
        "ls                      #cada elemento da lista aparece com [[]]\n",
        "\n",
        "ls1<-vector(\"list\", 5)   #funcao vector pode criar listas vazias\n",
        "ls1\n",
        "\n",
        "\n"
      ],
      "metadata": {
        "id": "tVUOwDVanM5R"
      },
      "execution_count": null,
      "outputs": []
    },
    {
      "cell_type": "markdown",
      "source": [
        "\n",
        "## Data.frame"
      ],
      "metadata": {
        "id": "ItCsP-QIqlcs"
      }
    },
    {
      "cell_type": "code",
      "source": [
        "#foramdo por vetores de mesmo tamanho, organizados como colunas\n",
        "\n",
        "number<-c(1, 2, 3, 4, 5)\n",
        "letter<-c(\"x\", \"y\", \"z\", \"w\", \"j\")\n",
        "logical<- c(TRUE, FALSE, FALSE, TRUE, FALSE)\n",
        "seq<-1:10\n",
        "\n",
        "dt<-data.frame(number, letter, logical)\n",
        "class(dt)\n",
        "dt$letter                     #usamos $ para acessar as colunas de um data.frame\n",
        "class(dt$letter)              #vetores de caracter sao interpretados como fatores\n",
        "\n",
        "dt<-data.frame(number, letter, logical, stringsAsFactors = F) #stringsAsFactors = F\n",
        "dt$letter\n",
        "class(dt$letter)\n",
        "\n",
        "attributes(dt)                #data.frames possuem colnames e rownames\n",
        "colnames(dt)\n",
        "row.names(dt)\n",
        "\n",
        "dt[5,2]                       #acessamos data.frames da mesma forma que matrizes"
      ],
      "metadata": {
        "id": "z9SUSexwnPsx"
      },
      "execution_count": null,
      "outputs": []
    }
  ]
}