{
  "nbformat": 4,
  "nbformat_minor": 0,
  "metadata": {
    "colab": {
      "provenance": [],
      "authorship_tag": "ABX9TyMsFxCwuMfkR77G7it3hat+",
      "include_colab_link": true
    },
    "kernelspec": {
      "name": "ir",
      "display_name": "R"
    },
    "language_info": {
      "name": "R"
    }
  },
  "cells": [
    {
      "cell_type": "markdown",
      "metadata": {
        "id": "view-in-github",
        "colab_type": "text"
      },
      "source": [
        "<a href=\"https://colab.research.google.com/github/soueuwilliam/Estudos-R/blob/main/IBS%20/Aulas/importa%C3%A7%C3%A3oEExporta%C3%A7%C3%A3oDeDadosR.ipynb\" target=\"_parent\"><img src=\"https://colab.research.google.com/assets/colab-badge.svg\" alt=\"Open In Colab\"/></a>"
      ]
    },
    {
      "cell_type": "code",
      "execution_count": null,
      "metadata": {
        "id": "66_dJURKcosm"
      },
      "outputs": [],
      "source": [
        "caminhoArquivoR <- '/content/Importao_e_exportao_de_dados.R'\n",
        "cat(readLines(caminhoArquivoR), sep = '\\n')"
      ]
    },
    {
      "cell_type": "markdown",
      "source": [
        "\n",
        "# importação de dados     \n"
      ],
      "metadata": {
        "id": "S3Qpkh8hf7WL"
      }
    },
    {
      "cell_type": "markdown",
      "source": [
        "## rodando codigos de scripts"
      ],
      "metadata": {
        "id": "ROGV4D1KkB9w"
      }
    },
    {
      "cell_type": "code",
      "source": [
        "source(file = \"/content/Exemplo.R\")                      #source() roda um script do diretorioi indicado\n"
      ],
      "metadata": {
        "colab": {
          "base_uri": "https://localhost:8080/",
          "height": 272
        },
        "id": "DcncbXWXhsh-",
        "outputId": "6f816a29-788a-467c-b860-c52322720553"
      },
      "execution_count": 11,
      "outputs": [
        {
          "output_type": "display_data",
          "data": {
            "text/html": [
              "<dl>\n",
              "\t<dt>$value</dt>\n",
              "\t\t<dd><table class=\"dataframe\">\n",
              "<caption>A data.frame: 3 × 4</caption>\n",
              "<thead>\n",
              "\t<tr><th scope=col>nomes</th><th scope=col>altura</th><th scope=col>peso</th><th scope=col>esportes</th></tr>\n",
              "\t<tr><th scope=col>&lt;chr&gt;</th><th scope=col>&lt;dbl&gt;</th><th scope=col>&lt;dbl&gt;</th><th scope=col>&lt;chr&gt;</th></tr>\n",
              "</thead>\n",
              "<tbody>\n",
              "\t<tr><td>Carlos </td><td>180</td><td>80</td><td>futebol</td></tr>\n",
              "\t<tr><td>Olivio </td><td>155</td><td>98</td><td>sumo   </td></tr>\n",
              "\t<tr><td>Roberto</td><td>187</td><td>90</td><td>remo   </td></tr>\n",
              "</tbody>\n",
              "</table>\n",
              "</dd>\n",
              "\t<dt>$visible</dt>\n",
              "\t\t<dd>FALSE</dd>\n",
              "</dl>\n"
            ],
            "text/markdown": "$value\n:   \nA data.frame: 3 × 4\n\n| nomes &lt;chr&gt; | altura &lt;dbl&gt; | peso &lt;dbl&gt; | esportes &lt;chr&gt; |\n|---|---|---|---|\n| Carlos  | 180 | 80 | futebol |\n| Olivio  | 155 | 98 | sumo    |\n| Roberto | 187 | 90 | remo    |\n\n\n$visible\n:   FALSE\n\n\n",
            "text/latex": "\\begin{description}\n\\item[\\$value] A data.frame: 3 × 4\n\\begin{tabular}{llll}\n nomes & altura & peso & esportes\\\\\n <chr> & <dbl> & <dbl> & <chr>\\\\\n\\hline\n\t Carlos  & 180 & 80 & futebol\\\\\n\t Olivio  & 155 & 98 & sumo   \\\\\n\t Roberto & 187 & 90 & remo   \\\\\n\\end{tabular}\n\n\\item[\\$visible] FALSE\n\\end{description}\n",
            "text/plain": [
              "$value\n",
              "    nomes altura peso esportes\n",
              "1  Carlos    180   80  futebol\n",
              "2  Olivio    155   98     sumo\n",
              "3 Roberto    187   90     remo\n",
              "\n",
              "$visible\n",
              "[1] FALSE\n"
            ]
          },
          "metadata": {}
        }
      ]
    },
    {
      "cell_type": "markdown",
      "source": [
        "## carregando objetos do R"
      ],
      "metadata": {
        "id": "nQQ5F4lqkJ2E"
      }
    },
    {
      "cell_type": "code",
      "source": [
        "load(file = \"arquivo.RData\")                                         #load() carrega arquivos R"
      ],
      "metadata": {
        "id": "7IqAlDclhvn8"
      },
      "execution_count": null,
      "outputs": []
    },
    {
      "cell_type": "markdown",
      "source": [
        "## lendo arquivos tabulares de texto (.txt)"
      ],
      "metadata": {
        "id": "NW8S15vMkgFU"
      }
    },
    {
      "cell_type": "code",
      "source": [
        "cluster11<-read.table(\"cluster11.txt\")         #read.table() le arquivos .txt econverte em data.frame"
      ],
      "metadata": {
        "id": "iD9Y3ibOhzYV"
      },
      "execution_count": null,
      "outputs": []
    },
    {
      "cell_type": "code",
      "source": [
        "args(read.table)                               #args() imprime os argumentos de uma funcao\n",
        "help(read.table)"
      ],
      "metadata": {
        "id": "46UaiH68h3ol"
      },
      "execution_count": null,
      "outputs": []
    },
    {
      "cell_type": "code",
      "source": [
        "HospData<-read.csv(\"hospital-data.csv\")        #read.csv() eh especifico para comma separeted value"
      ],
      "metadata": {
        "id": "RbhCBfhih78G"
      },
      "execution_count": null,
      "outputs": []
    },
    {
      "cell_type": "markdown",
      "source": [
        "# carregue o arquivo \"COG.mappings.v9.0.txt\"e construa o data.frame \"cogdata\""
      ],
      "metadata": {
        "id": "HtlxLRvIko7W"
      }
    },
    {
      "cell_type": "code",
      "source": [
        "readLines(\"COG.mappings.v9.0.txt\", 10)        #reaLines acessa o arquivo e le as linhas\n",
        "\n",
        "\n"
      ],
      "metadata": {
        "id": "mW9HvXmJjU9c"
      },
      "execution_count": null,
      "outputs": []
    },
    {
      "cell_type": "code",
      "source": [
        "scan(file='COG.mappings.v9.0.txt',nlines=10,what=character())   #scan() le cada posicao"
      ],
      "metadata": {
        "id": "4pBnTO0tkztT"
      },
      "execution_count": null,
      "outputs": []
    },
    {
      "cell_type": "code",
      "source": [
        "cogdata<-read.table(\"COG.mappings.v9.0.txt\", header = T, sep = \"\\t\",\n",
        "                    comment.char = \"\", stringsAsFactors = F, quote = \"\")"
      ],
      "metadata": {
        "id": "0Hvy7y05k4tE"
      },
      "execution_count": null,
      "outputs": []
    },
    {
      "cell_type": "code",
      "source": [
        "aponer<-read.delim(\"clipboard\")               #funciona como copy and paste no windows"
      ],
      "metadata": {
        "id": "kVVt31Bwk6XE"
      },
      "execution_count": null,
      "outputs": []
    },
    {
      "cell_type": "markdown",
      "source": [
        "# Connections   "
      ],
      "metadata": {
        "id": "G-FAg-WCjYt8"
      }
    },
    {
      "cell_type": "markdown",
      "source": [
        "## quando se vai acessar um arquivo externo ao R se abre uma coneccao"
      ],
      "metadata": {
        "id": "AJrDkBm5lMsp"
      }
    },
    {
      "cell_type": "code",
      "source": [
        "con<-gzfile(\"COG.mappings.v9.0.txt.gz\")          #gzfile() abre uma coneccao com arquivo .gz\n",
        "cogdata1<-readLines(con, 10)                     #a coneccao eh passada para a funcao de leitura\n",
        "cogdata1\n",
        "close(con)                                       #eh conveniente fechar a ceneccao"
      ],
      "metadata": {
        "id": "l16lj-m9lW_c"
      },
      "execution_count": null,
      "outputs": []
    },
    {
      "cell_type": "code",
      "source": [
        "con <- url(\"http://www.tribunadonorte.com.br/\", \"r\", 10)  #url() abre uma coneccao com arquivo web\n",
        "x<-readLines(con)\n",
        "x[1:10]\n",
        "close(con)"
      ],
      "metadata": {
        "id": "1X7CupIzlbhq"
      },
      "execution_count": null,
      "outputs": []
    },
    {
      "cell_type": "markdown",
      "source": [
        "# arquivos xlxs"
      ],
      "metadata": {
        "id": "ngyWbXArlhfj"
      }
    },
    {
      "cell_type": "code",
      "source": [
        "install.packages(\"xlsx\")\n",
        "library(\"xlsx\")                                #pacote para ler arquivos .xlsx"
      ],
      "metadata": {
        "id": "wBdmqokDmwrN"
      },
      "execution_count": null,
      "outputs": []
    },
    {
      "cell_type": "code",
      "source": [
        "aponer<-read.xlsx(\"Aponer.xlsx\", sheetIndex = 2, colIndex = 1:6,\n",
        "                  header = T, as.data.frame = T)"
      ],
      "metadata": {
        "id": "AzFmvVuamyWi"
      },
      "execution_count": null,
      "outputs": []
    },
    {
      "cell_type": "markdown",
      "source": [
        "## salvando objetos em arquivos do R"
      ],
      "metadata": {
        "id": "51L6Z0Wrm0ia"
      }
    },
    {
      "cell_type": "code",
      "source": [
        "save(unido,biometria, esportes, file=\"unido.RData\")    #save() salva os arquivos em binario\n",
        "\n",
        "\n"
      ],
      "metadata": {
        "id": "cHfdAbAdgEqP"
      },
      "execution_count": null,
      "outputs": []
    },
    {
      "cell_type": "markdown",
      "source": [
        "## salvando txt"
      ],
      "metadata": {
        "id": "7Lq8YQVvm9dk"
      }
    },
    {
      "cell_type": "code",
      "source": [
        "write.table(unido, file=\"unido.txt\", sep=\"\\t\", row.names=FALSE)   #write.table() salva arquivos .txt\n",
        "list.files()"
      ],
      "metadata": {
        "id": "5cZ8JErslVxE"
      },
      "execution_count": null,
      "outputs": []
    }
  ]
}